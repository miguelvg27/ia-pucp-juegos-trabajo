{
  "nbformat": 4,
  "nbformat_minor": 0,
  "metadata": {
    "colab": {
      "provenance": []
    },
    "kernelspec": {
      "display_name": "Python 3",
      "name": "python3"
    },
    "language_info": {
      "codemirror_mode": {
        "name": "ipython",
        "version": 3
      },
      "file_extension": ".py",
      "mimetype": "text/x-python",
      "name": "python",
      "nbconvert_exporter": "python",
      "pygments_lexer": "ipython3",
      "version": "3.7.3"
    }
  },
  "cells": [
    {
      "cell_type": "markdown",
      "metadata": {
        "id": "tYRB-FwqIWjb"
      },
      "source": [
        "# Diplomatura de Especialización en Desarrollo de Aplicaciones con Inteligencia Artificial - Inteligencia Artificial para Juegos (Game IA) - Sesión 4 - Tarea\n",
        "\n",
        "<img src='https://www.danielsaromo.xyz/assets/img/logo-pucp.png' width=200px>\n",
        "\n",
        "\n",
        "Dr. Edwin Villanueva, Ing. Daniel Saromo"
      ]
    },
    {
      "cell_type": "markdown",
      "metadata": {
        "id": "QbrDk0krJQFC"
      },
      "source": [
        "<font color='orange'>Creación de modelos de ML supervisado para Behavioral Cloning en el entorno Pacman UCB 3.6</font>"
      ]
    },
    {
      "cell_type": "markdown",
      "metadata": {
        "id": "2VGCW1p8AKpg"
      },
      "source": [
        "En este notebook se implementan códigos que permiten la generación de la arquitectura y del modelo de Behavioral Cloning, para ser usados en el entorno Pacman UCB 3.6."
      ]
    },
    {
      "cell_type": "markdown",
      "source": [
        "Fuente original del entorno de juego: https://inst.eecs.berkeley.edu/~cs188/sp21/project2/"
      ],
      "metadata": {
        "id": "TWQWQlWWpx59"
      }
    },
    {
      "cell_type": "markdown",
      "metadata": {
        "id": "v_upY3Az_-hl"
      },
      "source": [
        "![image.png](data:image/png;base64,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)"
      ]
    },
    {
      "cell_type": "markdown",
      "metadata": {
        "id": "Jjx7_p0wAC-w"
      },
      "source": [
        "El conjunto de datos para trabajar el proyecto contiene 5 clases a predecir (0: `Stop`, 1: `East`, 2: `North`, 3: `West`, y 4: `South`).\n",
        "\n",
        "Donde cada clase se refiere a una acción a tomar utilizando información de **10 features** extraidos de un `GameState` del entorno de juego Pacman UCB:\n",
        "\n",
        "Features:\n",
        "1. 'posx_g1_fromPacman' **('g1x')**\n",
        "2. 'posy_g1_fromPacman' **('g1y')**\n",
        "3. 'posx_g2_fromPacman' **('g2x')**\n",
        "4. 'posy_g2_fromPacman' **('g2y')**\n",
        "5. 'capsulas_restantes' **('caps')**\n",
        "6. 'manhattan_dist_toClosest_ghost' **('dist_ghost')**\n",
        "7. 'manhattan_dist_toClosest_caps' **('dist_caps')**\n",
        "8. 'mean_manhDist_5_closests_dots' **('dist_5dots')**\n",
        "9. **'score'**\n",
        "10.'cant_scared_ghosts' **('scared')**\n",
        "\n",
        "Target:\n",
        "11. **'action'**\n"
      ]
    },
    {
      "cell_type": "markdown",
      "metadata": {
        "id": "txTVUvkUvHkV"
      },
      "source": [
        "**TAREA (5 puntos en total por este notebook y los archivos a generarse con el mismo):**"
      ]
    },
    {
      "cell_type": "markdown",
      "source": [
        "Nota: El puntaje total del desafío de la semana son 20 puntos. Consultar las diapositivas para ver las instrucciones relacionadas al puntaje restante."
      ],
      "metadata": {
        "id": "pFG0y_6x5cBW"
      }
    },
    {
      "cell_type": "markdown",
      "metadata": {
        "id": "2zqiVrGNgvDh"
      },
      "source": [
        "Completar los campos de código requeridos y aplicar la metodología de Behavioral Cloning para generar un archivo con un modelo de ML. Este archivo deberá poder ser utilizado para controlar un agente Pacman en el entorno de Pacman UCB 3.6."
      ]
    },
    {
      "cell_type": "markdown",
      "metadata": {
        "id": "ZsbMj0lwgiFn"
      },
      "source": [
        "<font color='red'>Se solicita que el accuracy mínimo de su modelo de inferencia usado en el entorno de Pacman tenga un **accuracy mayor a 50%**.</font>"
      ]
    },
    {
      "cell_type": "markdown",
      "metadata": {
        "id": "aDAtmKbQpqrl"
      },
      "source": [
        "Completar con su código los campos requeridos y subir su notebook solucionado a la plataforma PAIDEIA. El formato del nombre del notebook es: `Desafio4_Grupo3.ipynb`, siendo `3` el número del grupo.\n",
        "\n",
        "Es responsabilidad del alumno verificar que el archivo que subió es el correcto. Respetar los lineamientos de la entrega de archivo, ya que influirá en su calificación. La fecha límite de entrega del presente desafío se encuentra en PAIDEIA."
      ]
    },
    {
      "cell_type": "markdown",
      "source": [
        "Integrantes del grupo:\n",
        "\n",
        "- [Sí trabajó] Walter Valverde\n",
        "- [Sí trabajó] Carlos Raymundo\n",
        "- [Sí trabajó] Miguel Vega"
      ],
      "metadata": {
        "id": "w3dyAE7Qfqzp"
      }
    },
    {
      "cell_type": "markdown",
      "source": [
        "En la lista de integrantes, indicar si el estudiante contribuyó o no en el trabajo grupal."
      ],
      "metadata": {
        "id": "WOFYRkmbf8cD"
      }
    },
    {
      "cell_type": "markdown",
      "metadata": {
        "id": "zOq7kyoapWWf"
      },
      "source": [
        "## Verificar que se tenga todo el software de ML instalado"
      ]
    },
    {
      "cell_type": "code",
      "source": [
        "!wget -N https://raw.githubusercontent.com/DanielSaromo/Pacman_UCB_Behavioral_Cloning/main/requirements.txt"
      ],
      "metadata": {
        "colab": {
          "base_uri": "https://localhost:8080/"
        },
        "id": "exb8y994tD20",
        "outputId": "da9c1ea9-f54a-40cc-f739-9a723624c737"
      },
      "execution_count": 2,
      "outputs": [
        {
          "output_type": "stream",
          "name": "stdout",
          "text": [
            "--2024-01-19 02:49:31--  https://raw.githubusercontent.com/DanielSaromo/Pacman_UCB_Behavioral_Cloning/main/requirements.txt\n",
            "Resolving raw.githubusercontent.com (raw.githubusercontent.com)... 185.199.108.133, 185.199.111.133, 185.199.109.133, ...\n",
            "Connecting to raw.githubusercontent.com (raw.githubusercontent.com)|185.199.108.133|:443... connected.\n",
            "HTTP request sent, awaiting response... 200 OK\n",
            "Length: 85 [text/plain]\n",
            "Saving to: ‘requirements.txt’\n",
            "\n",
            "\rrequirements.txt      0%[                    ]       0  --.-KB/s               \rrequirements.txt    100%[===================>]      85  --.-KB/s    in 0s      \n",
            "\n",
            "Last-modified header missing -- time-stamps turned off.\n",
            "2024-01-19 02:49:31 (2.57 MB/s) - ‘requirements.txt’ saved [85/85]\n",
            "\n"
          ]
        }
      ]
    },
    {
      "cell_type": "code",
      "source": [
        "!pip install -r requirements.txt"
      ],
      "metadata": {
        "id": "AFdtX84EJjmP",
        "colab": {
          "base_uri": "https://localhost:8080/",
          "height": 1000
        },
        "outputId": "51517972-2ef7-484a-b330-1d6951700c9e"
      },
      "execution_count": 3,
      "outputs": [
        {
          "output_type": "stream",
          "name": "stdout",
          "text": [
            "Requirement already satisfied: numpy==1.23.5 in /usr/local/lib/python3.10/dist-packages (from -r requirements.txt (line 1)) (1.23.5)\n",
            "Collecting scikit-learn==1.3.0 (from -r requirements.txt (line 2))\n",
            "  Downloading scikit_learn-1.3.0-cp310-cp310-manylinux_2_17_x86_64.manylinux2014_x86_64.whl (10.8 MB)\n",
            "\u001b[2K     \u001b[90m━━━━━━━━━━━━━━━━━━━━━━━━━━━━━━━━━━━━━━━━\u001b[0m \u001b[32m10.8/10.8 MB\u001b[0m \u001b[31m39.0 MB/s\u001b[0m eta \u001b[36m0:00:00\u001b[0m\n",
            "\u001b[?25hCollecting pandas==2.1.0 (from -r requirements.txt (line 3))\n",
            "  Downloading pandas-2.1.0-cp310-cp310-manylinux_2_17_x86_64.manylinux2014_x86_64.whl (12.7 MB)\n",
            "\u001b[2K     \u001b[90m━━━━━━━━━━━━━━━━━━━━━━━━━━━━━━━━━━━━━━━━\u001b[0m \u001b[32m12.7/12.7 MB\u001b[0m \u001b[31m41.9 MB/s\u001b[0m eta \u001b[36m0:00:00\u001b[0m\n",
            "\u001b[?25hCollecting matplotlib==3.7.2 (from -r requirements.txt (line 4))\n",
            "  Downloading matplotlib-3.7.2-cp310-cp310-manylinux_2_17_x86_64.manylinux2014_x86_64.whl (11.6 MB)\n",
            "\u001b[2K     \u001b[90m━━━━━━━━━━━━━━━━━━━━━━━━━━━━━━━━━━━━━━━━\u001b[0m \u001b[32m11.6/11.6 MB\u001b[0m \u001b[31m42.3 MB/s\u001b[0m eta \u001b[36m0:00:00\u001b[0m\n",
            "\u001b[?25hCollecting tensorflow==2.12.0 (from -r requirements.txt (line 5))\n",
            "  Downloading tensorflow-2.12.0-cp310-cp310-manylinux_2_17_x86_64.manylinux2014_x86_64.whl (585.9 MB)\n",
            "\u001b[2K     \u001b[90m━━━━━━━━━━━━━━━━━━━━━━━━━━━━━━━━━━━━━━━━\u001b[0m \u001b[32m585.9/585.9 MB\u001b[0m \u001b[31m2.4 MB/s\u001b[0m eta \u001b[36m0:00:00\u001b[0m\n",
            "\u001b[?25hRequirement already satisfied: scipy>=1.5.0 in /usr/local/lib/python3.10/dist-packages (from scikit-learn==1.3.0->-r requirements.txt (line 2)) (1.11.4)\n",
            "Requirement already satisfied: joblib>=1.1.1 in /usr/local/lib/python3.10/dist-packages (from scikit-learn==1.3.0->-r requirements.txt (line 2)) (1.3.2)\n",
            "Requirement already satisfied: threadpoolctl>=2.0.0 in /usr/local/lib/python3.10/dist-packages (from scikit-learn==1.3.0->-r requirements.txt (line 2)) (3.2.0)\n",
            "Requirement already satisfied: python-dateutil>=2.8.2 in /usr/local/lib/python3.10/dist-packages (from pandas==2.1.0->-r requirements.txt (line 3)) (2.8.2)\n",
            "Requirement already satisfied: pytz>=2020.1 in /usr/local/lib/python3.10/dist-packages (from pandas==2.1.0->-r requirements.txt (line 3)) (2023.3.post1)\n",
            "Collecting tzdata>=2022.1 (from pandas==2.1.0->-r requirements.txt (line 3))\n",
            "  Downloading tzdata-2023.4-py2.py3-none-any.whl (346 kB)\n",
            "\u001b[2K     \u001b[90m━━━━━━━━━━━━━━━━━━━━━━━━━━━━━━━━━━━━━━━━\u001b[0m \u001b[32m346.6/346.6 kB\u001b[0m \u001b[31m26.0 MB/s\u001b[0m eta \u001b[36m0:00:00\u001b[0m\n",
            "\u001b[?25hRequirement already satisfied: contourpy>=1.0.1 in /usr/local/lib/python3.10/dist-packages (from matplotlib==3.7.2->-r requirements.txt (line 4)) (1.2.0)\n",
            "Requirement already satisfied: cycler>=0.10 in /usr/local/lib/python3.10/dist-packages (from matplotlib==3.7.2->-r requirements.txt (line 4)) (0.12.1)\n",
            "Requirement already satisfied: fonttools>=4.22.0 in /usr/local/lib/python3.10/dist-packages (from matplotlib==3.7.2->-r requirements.txt (line 4)) (4.47.2)\n",
            "Requirement already satisfied: kiwisolver>=1.0.1 in /usr/local/lib/python3.10/dist-packages (from matplotlib==3.7.2->-r requirements.txt (line 4)) (1.4.5)\n",
            "Requirement already satisfied: packaging>=20.0 in /usr/local/lib/python3.10/dist-packages (from matplotlib==3.7.2->-r requirements.txt (line 4)) (23.2)\n",
            "Requirement already satisfied: pillow>=6.2.0 in /usr/local/lib/python3.10/dist-packages (from matplotlib==3.7.2->-r requirements.txt (line 4)) (9.4.0)\n",
            "Collecting pyparsing<3.1,>=2.3.1 (from matplotlib==3.7.2->-r requirements.txt (line 4))\n",
            "  Downloading pyparsing-3.0.9-py3-none-any.whl (98 kB)\n",
            "\u001b[2K     \u001b[90m━━━━━━━━━━━━━━━━━━━━━━━━━━━━━━━━━━━━━━━━\u001b[0m \u001b[32m98.3/98.3 kB\u001b[0m \u001b[31m9.6 MB/s\u001b[0m eta \u001b[36m0:00:00\u001b[0m\n",
            "\u001b[?25hRequirement already satisfied: absl-py>=1.0.0 in /usr/local/lib/python3.10/dist-packages (from tensorflow==2.12.0->-r requirements.txt (line 5)) (1.4.0)\n",
            "Requirement already satisfied: astunparse>=1.6.0 in /usr/local/lib/python3.10/dist-packages (from tensorflow==2.12.0->-r requirements.txt (line 5)) (1.6.3)\n",
            "Requirement already satisfied: flatbuffers>=2.0 in /usr/local/lib/python3.10/dist-packages (from tensorflow==2.12.0->-r requirements.txt (line 5)) (23.5.26)\n",
            "Collecting gast<=0.4.0,>=0.2.1 (from tensorflow==2.12.0->-r requirements.txt (line 5))\n",
            "  Downloading gast-0.4.0-py3-none-any.whl (9.8 kB)\n",
            "Requirement already satisfied: google-pasta>=0.1.1 in /usr/local/lib/python3.10/dist-packages (from tensorflow==2.12.0->-r requirements.txt (line 5)) (0.2.0)\n",
            "Requirement already satisfied: grpcio<2.0,>=1.24.3 in /usr/local/lib/python3.10/dist-packages (from tensorflow==2.12.0->-r requirements.txt (line 5)) (1.60.0)\n",
            "Requirement already satisfied: h5py>=2.9.0 in /usr/local/lib/python3.10/dist-packages (from tensorflow==2.12.0->-r requirements.txt (line 5)) (3.9.0)\n",
            "Requirement already satisfied: jax>=0.3.15 in /usr/local/lib/python3.10/dist-packages (from tensorflow==2.12.0->-r requirements.txt (line 5)) (0.4.23)\n",
            "Collecting keras<2.13,>=2.12.0 (from tensorflow==2.12.0->-r requirements.txt (line 5))\n",
            "  Downloading keras-2.12.0-py2.py3-none-any.whl (1.7 MB)\n",
            "\u001b[2K     \u001b[90m━━━━━━━━━━━━━━━━━━━━━━━━━━━━━━━━━━━━━━━━\u001b[0m \u001b[32m1.7/1.7 MB\u001b[0m \u001b[31m27.2 MB/s\u001b[0m eta \u001b[36m0:00:00\u001b[0m\n",
            "\u001b[?25hRequirement already satisfied: libclang>=13.0.0 in /usr/local/lib/python3.10/dist-packages (from tensorflow==2.12.0->-r requirements.txt (line 5)) (16.0.6)\n",
            "Requirement already satisfied: opt-einsum>=2.3.2 in /usr/local/lib/python3.10/dist-packages (from tensorflow==2.12.0->-r requirements.txt (line 5)) (3.3.0)\n",
            "Requirement already satisfied: protobuf!=4.21.0,!=4.21.1,!=4.21.2,!=4.21.3,!=4.21.4,!=4.21.5,<5.0.0dev,>=3.20.3 in /usr/local/lib/python3.10/dist-packages (from tensorflow==2.12.0->-r requirements.txt (line 5)) (3.20.3)\n",
            "Requirement already satisfied: setuptools in /usr/local/lib/python3.10/dist-packages (from tensorflow==2.12.0->-r requirements.txt (line 5)) (67.7.2)\n",
            "Requirement already satisfied: six>=1.12.0 in /usr/local/lib/python3.10/dist-packages (from tensorflow==2.12.0->-r requirements.txt (line 5)) (1.16.0)\n",
            "Collecting tensorboard<2.13,>=2.12 (from tensorflow==2.12.0->-r requirements.txt (line 5))\n",
            "  Downloading tensorboard-2.12.3-py3-none-any.whl (5.6 MB)\n",
            "\u001b[2K     \u001b[90m━━━━━━━━━━━━━━━━━━━━━━━━━━━━━━━━━━━━━━━━\u001b[0m \u001b[32m5.6/5.6 MB\u001b[0m \u001b[31m30.2 MB/s\u001b[0m eta \u001b[36m0:00:00\u001b[0m\n",
            "\u001b[?25hCollecting tensorflow-estimator<2.13,>=2.12.0 (from tensorflow==2.12.0->-r requirements.txt (line 5))\n",
            "  Downloading tensorflow_estimator-2.12.0-py2.py3-none-any.whl (440 kB)\n",
            "\u001b[2K     \u001b[90m━━━━━━━━━━━━━━━━━━━━━━━━━━━━━━━━━━━━━━━━\u001b[0m \u001b[32m440.7/440.7 kB\u001b[0m \u001b[31m32.3 MB/s\u001b[0m eta \u001b[36m0:00:00\u001b[0m\n",
            "\u001b[?25hRequirement already satisfied: termcolor>=1.1.0 in /usr/local/lib/python3.10/dist-packages (from tensorflow==2.12.0->-r requirements.txt (line 5)) (2.4.0)\n",
            "Requirement already satisfied: typing-extensions>=3.6.6 in /usr/local/lib/python3.10/dist-packages (from tensorflow==2.12.0->-r requirements.txt (line 5)) (4.5.0)\n",
            "Requirement already satisfied: wrapt<1.15,>=1.11.0 in /usr/local/lib/python3.10/dist-packages (from tensorflow==2.12.0->-r requirements.txt (line 5)) (1.14.1)\n",
            "Requirement already satisfied: tensorflow-io-gcs-filesystem>=0.23.1 in /usr/local/lib/python3.10/dist-packages (from tensorflow==2.12.0->-r requirements.txt (line 5)) (0.35.0)\n",
            "Requirement already satisfied: wheel<1.0,>=0.23.0 in /usr/local/lib/python3.10/dist-packages (from astunparse>=1.6.0->tensorflow==2.12.0->-r requirements.txt (line 5)) (0.42.0)\n",
            "Requirement already satisfied: ml-dtypes>=0.2.0 in /usr/local/lib/python3.10/dist-packages (from jax>=0.3.15->tensorflow==2.12.0->-r requirements.txt (line 5)) (0.2.0)\n",
            "Requirement already satisfied: google-auth<3,>=1.6.3 in /usr/local/lib/python3.10/dist-packages (from tensorboard<2.13,>=2.12->tensorflow==2.12.0->-r requirements.txt (line 5)) (2.17.3)\n",
            "Collecting google-auth-oauthlib<1.1,>=0.5 (from tensorboard<2.13,>=2.12->tensorflow==2.12.0->-r requirements.txt (line 5))\n",
            "  Downloading google_auth_oauthlib-1.0.0-py2.py3-none-any.whl (18 kB)\n",
            "Requirement already satisfied: markdown>=2.6.8 in /usr/local/lib/python3.10/dist-packages (from tensorboard<2.13,>=2.12->tensorflow==2.12.0->-r requirements.txt (line 5)) (3.5.2)\n",
            "Requirement already satisfied: requests<3,>=2.21.0 in /usr/local/lib/python3.10/dist-packages (from tensorboard<2.13,>=2.12->tensorflow==2.12.0->-r requirements.txt (line 5)) (2.31.0)\n",
            "Requirement already satisfied: tensorboard-data-server<0.8.0,>=0.7.0 in /usr/local/lib/python3.10/dist-packages (from tensorboard<2.13,>=2.12->tensorflow==2.12.0->-r requirements.txt (line 5)) (0.7.2)\n",
            "Requirement already satisfied: werkzeug>=1.0.1 in /usr/local/lib/python3.10/dist-packages (from tensorboard<2.13,>=2.12->tensorflow==2.12.0->-r requirements.txt (line 5)) (3.0.1)\n",
            "Requirement already satisfied: cachetools<6.0,>=2.0.0 in /usr/local/lib/python3.10/dist-packages (from google-auth<3,>=1.6.3->tensorboard<2.13,>=2.12->tensorflow==2.12.0->-r requirements.txt (line 5)) (5.3.2)\n",
            "Requirement already satisfied: pyasn1-modules>=0.2.1 in /usr/local/lib/python3.10/dist-packages (from google-auth<3,>=1.6.3->tensorboard<2.13,>=2.12->tensorflow==2.12.0->-r requirements.txt (line 5)) (0.3.0)\n",
            "Requirement already satisfied: rsa<5,>=3.1.4 in /usr/local/lib/python3.10/dist-packages (from google-auth<3,>=1.6.3->tensorboard<2.13,>=2.12->tensorflow==2.12.0->-r requirements.txt (line 5)) (4.9)\n",
            "Requirement already satisfied: requests-oauthlib>=0.7.0 in /usr/local/lib/python3.10/dist-packages (from google-auth-oauthlib<1.1,>=0.5->tensorboard<2.13,>=2.12->tensorflow==2.12.0->-r requirements.txt (line 5)) (1.3.1)\n",
            "Requirement already satisfied: charset-normalizer<4,>=2 in /usr/local/lib/python3.10/dist-packages (from requests<3,>=2.21.0->tensorboard<2.13,>=2.12->tensorflow==2.12.0->-r requirements.txt (line 5)) (3.3.2)\n",
            "Requirement already satisfied: idna<4,>=2.5 in /usr/local/lib/python3.10/dist-packages (from requests<3,>=2.21.0->tensorboard<2.13,>=2.12->tensorflow==2.12.0->-r requirements.txt (line 5)) (3.6)\n",
            "Requirement already satisfied: urllib3<3,>=1.21.1 in /usr/local/lib/python3.10/dist-packages (from requests<3,>=2.21.0->tensorboard<2.13,>=2.12->tensorflow==2.12.0->-r requirements.txt (line 5)) (2.0.7)\n",
            "Requirement already satisfied: certifi>=2017.4.17 in /usr/local/lib/python3.10/dist-packages (from requests<3,>=2.21.0->tensorboard<2.13,>=2.12->tensorflow==2.12.0->-r requirements.txt (line 5)) (2023.11.17)\n",
            "Requirement already satisfied: MarkupSafe>=2.1.1 in /usr/local/lib/python3.10/dist-packages (from werkzeug>=1.0.1->tensorboard<2.13,>=2.12->tensorflow==2.12.0->-r requirements.txt (line 5)) (2.1.3)\n",
            "Requirement already satisfied: pyasn1<0.6.0,>=0.4.6 in /usr/local/lib/python3.10/dist-packages (from pyasn1-modules>=0.2.1->google-auth<3,>=1.6.3->tensorboard<2.13,>=2.12->tensorflow==2.12.0->-r requirements.txt (line 5)) (0.5.1)\n",
            "Requirement already satisfied: oauthlib>=3.0.0 in /usr/local/lib/python3.10/dist-packages (from requests-oauthlib>=0.7.0->google-auth-oauthlib<1.1,>=0.5->tensorboard<2.13,>=2.12->tensorflow==2.12.0->-r requirements.txt (line 5)) (3.2.2)\n",
            "Installing collected packages: tzdata, tensorflow-estimator, pyparsing, keras, gast, scikit-learn, pandas, matplotlib, google-auth-oauthlib, tensorboard, tensorflow\n",
            "  Attempting uninstall: tensorflow-estimator\n",
            "    Found existing installation: tensorflow-estimator 2.15.0\n",
            "    Uninstalling tensorflow-estimator-2.15.0:\n",
            "      Successfully uninstalled tensorflow-estimator-2.15.0\n",
            "  Attempting uninstall: pyparsing\n",
            "    Found existing installation: pyparsing 3.1.1\n",
            "    Uninstalling pyparsing-3.1.1:\n",
            "      Successfully uninstalled pyparsing-3.1.1\n",
            "  Attempting uninstall: keras\n",
            "    Found existing installation: keras 2.15.0\n",
            "    Uninstalling keras-2.15.0:\n",
            "      Successfully uninstalled keras-2.15.0\n",
            "  Attempting uninstall: gast\n",
            "    Found existing installation: gast 0.5.4\n",
            "    Uninstalling gast-0.5.4:\n",
            "      Successfully uninstalled gast-0.5.4\n",
            "  Attempting uninstall: scikit-learn\n",
            "    Found existing installation: scikit-learn 1.2.2\n",
            "    Uninstalling scikit-learn-1.2.2:\n",
            "      Successfully uninstalled scikit-learn-1.2.2\n",
            "  Attempting uninstall: pandas\n",
            "    Found existing installation: pandas 1.5.3\n",
            "    Uninstalling pandas-1.5.3:\n",
            "      Successfully uninstalled pandas-1.5.3\n",
            "  Attempting uninstall: matplotlib\n",
            "    Found existing installation: matplotlib 3.7.1\n",
            "    Uninstalling matplotlib-3.7.1:\n",
            "      Successfully uninstalled matplotlib-3.7.1\n",
            "  Attempting uninstall: google-auth-oauthlib\n",
            "    Found existing installation: google-auth-oauthlib 1.2.0\n",
            "    Uninstalling google-auth-oauthlib-1.2.0:\n",
            "      Successfully uninstalled google-auth-oauthlib-1.2.0\n",
            "  Attempting uninstall: tensorboard\n",
            "    Found existing installation: tensorboard 2.15.1\n",
            "    Uninstalling tensorboard-2.15.1:\n",
            "      Successfully uninstalled tensorboard-2.15.1\n",
            "  Attempting uninstall: tensorflow\n",
            "    Found existing installation: tensorflow 2.15.0\n",
            "    Uninstalling tensorflow-2.15.0:\n",
            "      Successfully uninstalled tensorflow-2.15.0\n",
            "\u001b[31mERROR: pip's dependency resolver does not currently take into account all the packages that are installed. This behaviour is the source of the following dependency conflicts.\n",
            "lida 0.0.10 requires fastapi, which is not installed.\n",
            "lida 0.0.10 requires kaleido, which is not installed.\n",
            "lida 0.0.10 requires python-multipart, which is not installed.\n",
            "lida 0.0.10 requires uvicorn, which is not installed.\n",
            "google-colab 1.0.0 requires pandas==1.5.3, but you have pandas 2.1.0 which is incompatible.\n",
            "statsmodels 0.14.1 requires pandas!=2.1.0,>=1.0, but you have pandas 2.1.0 which is incompatible.\u001b[0m\u001b[31m\n",
            "\u001b[0mSuccessfully installed gast-0.4.0 google-auth-oauthlib-1.0.0 keras-2.12.0 matplotlib-3.7.2 pandas-2.1.0 pyparsing-3.0.9 scikit-learn-1.3.0 tensorboard-2.12.3 tensorflow-2.12.0 tensorflow-estimator-2.12.0 tzdata-2023.4\n"
          ]
        },
        {
          "output_type": "display_data",
          "data": {
            "application/vnd.colab-display-data+json": {
              "pip_warning": {
                "packages": [
                  "matplotlib",
                  "mpl_toolkits"
                ]
              }
            }
          },
          "metadata": {}
        }
      ]
    },
    {
      "cell_type": "markdown",
      "metadata": {
        "id": "bxNv_-vIpWWi"
      },
      "source": [
        "## Paso 1: Cargar e inspeccionar los datos"
      ]
    },
    {
      "cell_type": "markdown",
      "source": [
        "NO OLVIDAR RESETEAR EL ENTORNO LUEGO DE INSTALAR LAS LIBRERÍAS."
      ],
      "metadata": {
        "id": "TC7pCiNTweog"
      }
    },
    {
      "cell_type": "code",
      "metadata": {
        "id": "mVl4QvRQpWWg",
        "colab": {
          "base_uri": "https://localhost:8080/"
        },
        "outputId": "21a703ba-a9a5-4d43-f7af-2cf2dc5e7292"
      },
      "source": [
        "# version de Python\n",
        "import sys\n",
        "print('Python: {}'.format(sys.version))\n",
        "# scipy\n",
        "import scipy\n",
        "print('scipy: {}'.format(scipy.__version__))\n",
        "# numpy\n",
        "import numpy\n",
        "print('numpy: {}'.format(numpy.__version__))\n",
        "# matplotlib\n",
        "import matplotlib\n",
        "print('matplotlib: {}'.format(matplotlib.__version__))\n",
        "# pandas\n",
        "import pandas\n",
        "print('pandas: {}'.format(pandas.__version__))\n",
        "# scikit-learn\n",
        "import sklearn\n",
        "print('sklearn: {}'.format(sklearn.__version__))\n",
        "# keras\n",
        "import keras\n",
        "print('keras: {}'.format(keras.__version__))\n",
        "\n",
        "import pickle # para cargar y grabar archivos"
      ],
      "execution_count": 1,
      "outputs": [
        {
          "output_type": "stream",
          "name": "stdout",
          "text": [
            "Python: 3.10.12 (main, Nov 20 2023, 15:14:05) [GCC 11.4.0]\n",
            "scipy: 1.11.4\n",
            "numpy: 1.23.5\n",
            "matplotlib: 3.7.2\n",
            "pandas: 2.1.0\n",
            "sklearn: 1.3.0\n",
            "keras: 2.12.0\n"
          ]
        }
      ]
    },
    {
      "cell_type": "markdown",
      "metadata": {
        "id": "k28e4DuhpWWj"
      },
      "source": [
        "### 1.1) Primero hay que importar todas las librerias y modulos que se usará"
      ]
    },
    {
      "cell_type": "code",
      "metadata": {
        "id": "6d-Yr4pnpWWj"
      },
      "source": [
        "# Librerias base que se usaran\n",
        "import pandas\n",
        "from pandas.plotting import scatter_matrix\n",
        "import matplotlib.pyplot as plt\n",
        "from sklearn.model_selection import train_test_split    # para validacion y selecion de modelos\n",
        "from sklearn.model_selection import cross_val_score     # para validacion y selecion de modelos\n",
        "from sklearn.model_selection import KFold               # para generar k-folds para validacion y selecion de modelos\n",
        "from sklearn.preprocessing import LabelEncoder          # para reetiquetar labels con valores numericos\n",
        "from sklearn.pipeline import Pipeline\n",
        "from sklearn.metrics import accuracy_score  # para manejar metricas de desempeño\n",
        "from sklearn.metrics import confusion_matrix  # para manejar matrices de confusion\n",
        "from sklearn.metrics import classification_report  # para hacer reportes de resultados de clasificacion\n",
        "\n",
        "# Librerias de diferentes Modelos de ML\n",
        "from keras.models import Sequential   # Para crear holders de Redes neuronales\n",
        "from keras.layers import Dense        # Para crear capas de Redes neuronales  fully-connected\n",
        "from keras.wrappers.scikit_learn import KerasClassifier\n",
        "from keras.utils import np_utils\n",
        "from sklearn.linear_model import LogisticRegression # para usar modelos de regresion logistica\n",
        "from sklearn.tree import DecisionTreeClassifier     # para usar modelos de tipo arboles de decision\n",
        "from sklearn.neighbors import KNeighborsClassifier  # para modelos  Knn\n",
        "from sklearn.discriminant_analysis import LinearDiscriminantAnalysis  # para modelos discriminantes lineales\n",
        "from sklearn.naive_bayes import GaussianNB   # para modelos Naive Bayes\n",
        "from sklearn.svm import SVC   # para modelos SVM\n",
        "from sklearn.ensemble import RandomForestClassifier\n",
        "from xgboost import XGBClassifier\n",
        "from sklearn.preprocessing import OneHotEncoder, StandardScaler"
      ],
      "execution_count": 2,
      "outputs": []
    },
    {
      "cell_type": "markdown",
      "metadata": {
        "id": "pQRV11-b9ZxL"
      },
      "source": [
        "Puede importar otras librerías, si es que así lo requiere."
      ]
    },
    {
      "cell_type": "markdown",
      "metadata": {
        "id": "17C2MfRopWWl"
      },
      "source": [
        "### 1.2) Cargar el dataset"
      ]
    },
    {
      "cell_type": "code",
      "source": [
        "!wget -O 'datosRecolectadosTotal.csv' https://media.githubusercontent.com/media/miguelvg27/ia-pucp-juegos-trabajo/main/data/datosRecolectadosTotal.csv"
      ],
      "metadata": {
        "colab": {
          "base_uri": "https://localhost:8080/"
        },
        "id": "BY61Q1e8WjmW",
        "outputId": "f8ea5c11-b2c6-4fe8-e9a5-26c3a2f09c85"
      },
      "execution_count": 3,
      "outputs": [
        {
          "output_type": "stream",
          "name": "stdout",
          "text": [
            "--2024-01-19 02:53:23--  https://media.githubusercontent.com/media/miguelvg27/ia-pucp-juegos-trabajo/main/data/datosRecolectadosTotal.csv\n",
            "Resolving media.githubusercontent.com (media.githubusercontent.com)... 185.199.108.133, 185.199.109.133, 185.199.110.133, ...\n",
            "Connecting to media.githubusercontent.com (media.githubusercontent.com)|185.199.108.133|:443... connected.\n",
            "HTTP request sent, awaiting response... 200 OK\n",
            "Length: 14962510 (14M) [text/plain]\n",
            "Saving to: ‘datosRecolectadosTotal.csv’\n",
            "\n",
            "datosRecolectadosTo 100%[===================>]  14.27M  87.9MB/s    in 0.2s    \n",
            "\n",
            "2024-01-19 02:53:24 (87.9 MB/s) - ‘datosRecolectadosTotal.csv’ saved [14962510/14962510]\n",
            "\n"
          ]
        }
      ]
    },
    {
      "cell_type": "code",
      "metadata": {
        "id": "-pTJ9VfzpWWm"
      },
      "source": [
        "url = \"datosRecolectadosTotal.csv\"\n",
        "names = ['g1x', 'g1y','g2x','g2y','caps','dist_ghost','dist_caps','dist_5dots','score','scared','ady_w','ady_e','ady_n','ady_s','pacx','pacy','l1_dots','l2_dots','l3_dots','l4_dots','action']\n",
        "\n",
        "dataset = pandas.read_csv(url, names=names)"
      ],
      "execution_count": 4,
      "outputs": []
    },
    {
      "cell_type": "markdown",
      "metadata": {
        "id": "HuBgPK6HCLka"
      },
      "source": [
        "### 1.3) Inspeccionar los datos"
      ]
    },
    {
      "cell_type": "code",
      "metadata": {
        "id": "Wi98w19FCLka",
        "colab": {
          "base_uri": "https://localhost:8080/",
          "height": 444
        },
        "outputId": "7b3a5bdc-f79a-4d48-874d-f1d370cda7f6"
      },
      "source": [
        "dataset"
      ],
      "execution_count": 5,
      "outputs": [
        {
          "output_type": "execute_result",
          "data": {
            "text/plain": [
              "       g1x  g1y  g2x  g2y  caps  dist_ghost  dist_caps  dist_5dots  score  \\\n",
              "0     -1.0  4.0  2.0  4.0   2.0         5.0        9.0         2.8    0.0   \n",
              "1     -1.0  4.0  2.0  4.0   2.0         5.0        9.0         2.8    0.0   \n",
              "2     -1.0  4.0  2.0  4.0   2.0         5.0        9.0         2.8    0.0   \n",
              "3      0.0  4.0  1.0  4.0   2.0         4.0        9.0         2.8   -1.0   \n",
              "4      0.0  4.0  1.0  4.0   2.0         4.0        9.0         2.8   -1.0   \n",
              "...    ...  ...  ...  ...   ...         ...        ...         ...    ...   \n",
              "75730  7.0  2.0  0.0  4.0   2.0         4.0        4.0         1.8  100.0   \n",
              "75731  8.0  2.0  0.0  3.0   2.0         3.0        4.0         1.8   99.0   \n",
              "75732  8.0  2.0  0.0  3.0   2.0         3.0        4.0         1.8   99.0   \n",
              "75733  8.0  2.0  0.0  3.0   2.0         3.0        4.0         1.8   99.0   \n",
              "75734  8.0  0.0  0.0  1.0   2.0         1.0        3.0         2.4  108.0   \n",
              "\n",
              "       scared  ...  ady_e  ady_n  ady_s  pacx  pacy  l1_dots  l2_dots  \\\n",
              "0         0.0  ...    4.0    2.0    2.0   0.0  -4.0     25.0     25.0   \n",
              "1         0.0  ...    4.0    2.0    2.0   0.0  -4.0     25.0     25.0   \n",
              "2         0.0  ...    4.0    2.0    2.0   0.0  -4.0     25.0     25.0   \n",
              "3         0.0  ...    4.0    2.0    2.0   0.0  -4.0     25.0     25.0   \n",
              "4         0.0  ...    4.0    2.0    2.0   0.0  -4.0     25.0     25.0   \n",
              "...       ...  ...    ...    ...    ...   ...   ...      ...      ...   \n",
              "75730     0.0  ...    3.0    4.0    4.0  -8.0   0.0     19.0     25.0   \n",
              "75731     0.0  ...    3.0    4.0    4.0  -8.0   0.0     19.0     25.0   \n",
              "75732     0.0  ...    3.0    4.0    4.0  -8.0   0.0     19.0     25.0   \n",
              "75733     0.0  ...    3.0    4.0    4.0  -8.0   0.0     19.0     25.0   \n",
              "75734     0.0  ...    2.0    1.0    3.0  -8.0   1.0     18.0     25.0   \n",
              "\n",
              "       l3_dots  l4_dots  action  \n",
              "0         22.0     21.0     0.0  \n",
              "1         22.0     21.0     0.0  \n",
              "2         22.0     21.0     0.0  \n",
              "3         22.0     21.0     0.0  \n",
              "4         22.0     21.0     0.0  \n",
              "...        ...      ...     ...  \n",
              "75730     22.0     15.0     0.0  \n",
              "75731     22.0     15.0     2.0  \n",
              "75732     22.0     15.0     2.0  \n",
              "75733     22.0     15.0     2.0  \n",
              "75734     22.0     15.0     2.0  \n",
              "\n",
              "[75735 rows x 21 columns]"
            ],
            "text/html": [
              "\n",
              "  <div id=\"df-75fe696c-b29c-413c-855a-ed7b79e4c9c9\" class=\"colab-df-container\">\n",
              "    <div>\n",
              "<style scoped>\n",
              "    .dataframe tbody tr th:only-of-type {\n",
              "        vertical-align: middle;\n",
              "    }\n",
              "\n",
              "    .dataframe tbody tr th {\n",
              "        vertical-align: top;\n",
              "    }\n",
              "\n",
              "    .dataframe thead th {\n",
              "        text-align: right;\n",
              "    }\n",
              "</style>\n",
              "<table border=\"1\" class=\"dataframe\">\n",
              "  <thead>\n",
              "    <tr style=\"text-align: right;\">\n",
              "      <th></th>\n",
              "      <th>g1x</th>\n",
              "      <th>g1y</th>\n",
              "      <th>g2x</th>\n",
              "      <th>g2y</th>\n",
              "      <th>caps</th>\n",
              "      <th>dist_ghost</th>\n",
              "      <th>dist_caps</th>\n",
              "      <th>dist_5dots</th>\n",
              "      <th>score</th>\n",
              "      <th>scared</th>\n",
              "      <th>...</th>\n",
              "      <th>ady_e</th>\n",
              "      <th>ady_n</th>\n",
              "      <th>ady_s</th>\n",
              "      <th>pacx</th>\n",
              "      <th>pacy</th>\n",
              "      <th>l1_dots</th>\n",
              "      <th>l2_dots</th>\n",
              "      <th>l3_dots</th>\n",
              "      <th>l4_dots</th>\n",
              "      <th>action</th>\n",
              "    </tr>\n",
              "  </thead>\n",
              "  <tbody>\n",
              "    <tr>\n",
              "      <th>0</th>\n",
              "      <td>-1.0</td>\n",
              "      <td>4.0</td>\n",
              "      <td>2.0</td>\n",
              "      <td>4.0</td>\n",
              "      <td>2.0</td>\n",
              "      <td>5.0</td>\n",
              "      <td>9.0</td>\n",
              "      <td>2.8</td>\n",
              "      <td>0.0</td>\n",
              "      <td>0.0</td>\n",
              "      <td>...</td>\n",
              "      <td>4.0</td>\n",
              "      <td>2.0</td>\n",
              "      <td>2.0</td>\n",
              "      <td>0.0</td>\n",
              "      <td>-4.0</td>\n",
              "      <td>25.0</td>\n",
              "      <td>25.0</td>\n",
              "      <td>22.0</td>\n",
              "      <td>21.0</td>\n",
              "      <td>0.0</td>\n",
              "    </tr>\n",
              "    <tr>\n",
              "      <th>1</th>\n",
              "      <td>-1.0</td>\n",
              "      <td>4.0</td>\n",
              "      <td>2.0</td>\n",
              "      <td>4.0</td>\n",
              "      <td>2.0</td>\n",
              "      <td>5.0</td>\n",
              "      <td>9.0</td>\n",
              "      <td>2.8</td>\n",
              "      <td>0.0</td>\n",
              "      <td>0.0</td>\n",
              "      <td>...</td>\n",
              "      <td>4.0</td>\n",
              "      <td>2.0</td>\n",
              "      <td>2.0</td>\n",
              "      <td>0.0</td>\n",
              "      <td>-4.0</td>\n",
              "      <td>25.0</td>\n",
              "      <td>25.0</td>\n",
              "      <td>22.0</td>\n",
              "      <td>21.0</td>\n",
              "      <td>0.0</td>\n",
              "    </tr>\n",
              "    <tr>\n",
              "      <th>2</th>\n",
              "      <td>-1.0</td>\n",
              "      <td>4.0</td>\n",
              "      <td>2.0</td>\n",
              "      <td>4.0</td>\n",
              "      <td>2.0</td>\n",
              "      <td>5.0</td>\n",
              "      <td>9.0</td>\n",
              "      <td>2.8</td>\n",
              "      <td>0.0</td>\n",
              "      <td>0.0</td>\n",
              "      <td>...</td>\n",
              "      <td>4.0</td>\n",
              "      <td>2.0</td>\n",
              "      <td>2.0</td>\n",
              "      <td>0.0</td>\n",
              "      <td>-4.0</td>\n",
              "      <td>25.0</td>\n",
              "      <td>25.0</td>\n",
              "      <td>22.0</td>\n",
              "      <td>21.0</td>\n",
              "      <td>0.0</td>\n",
              "    </tr>\n",
              "    <tr>\n",
              "      <th>3</th>\n",
              "      <td>0.0</td>\n",
              "      <td>4.0</td>\n",
              "      <td>1.0</td>\n",
              "      <td>4.0</td>\n",
              "      <td>2.0</td>\n",
              "      <td>4.0</td>\n",
              "      <td>9.0</td>\n",
              "      <td>2.8</td>\n",
              "      <td>-1.0</td>\n",
              "      <td>0.0</td>\n",
              "      <td>...</td>\n",
              "      <td>4.0</td>\n",
              "      <td>2.0</td>\n",
              "      <td>2.0</td>\n",
              "      <td>0.0</td>\n",
              "      <td>-4.0</td>\n",
              "      <td>25.0</td>\n",
              "      <td>25.0</td>\n",
              "      <td>22.0</td>\n",
              "      <td>21.0</td>\n",
              "      <td>0.0</td>\n",
              "    </tr>\n",
              "    <tr>\n",
              "      <th>4</th>\n",
              "      <td>0.0</td>\n",
              "      <td>4.0</td>\n",
              "      <td>1.0</td>\n",
              "      <td>4.0</td>\n",
              "      <td>2.0</td>\n",
              "      <td>4.0</td>\n",
              "      <td>9.0</td>\n",
              "      <td>2.8</td>\n",
              "      <td>-1.0</td>\n",
              "      <td>0.0</td>\n",
              "      <td>...</td>\n",
              "      <td>4.0</td>\n",
              "      <td>2.0</td>\n",
              "      <td>2.0</td>\n",
              "      <td>0.0</td>\n",
              "      <td>-4.0</td>\n",
              "      <td>25.0</td>\n",
              "      <td>25.0</td>\n",
              "      <td>22.0</td>\n",
              "      <td>21.0</td>\n",
              "      <td>0.0</td>\n",
              "    </tr>\n",
              "    <tr>\n",
              "      <th>...</th>\n",
              "      <td>...</td>\n",
              "      <td>...</td>\n",
              "      <td>...</td>\n",
              "      <td>...</td>\n",
              "      <td>...</td>\n",
              "      <td>...</td>\n",
              "      <td>...</td>\n",
              "      <td>...</td>\n",
              "      <td>...</td>\n",
              "      <td>...</td>\n",
              "      <td>...</td>\n",
              "      <td>...</td>\n",
              "      <td>...</td>\n",
              "      <td>...</td>\n",
              "      <td>...</td>\n",
              "      <td>...</td>\n",
              "      <td>...</td>\n",
              "      <td>...</td>\n",
              "      <td>...</td>\n",
              "      <td>...</td>\n",
              "      <td>...</td>\n",
              "    </tr>\n",
              "    <tr>\n",
              "      <th>75730</th>\n",
              "      <td>7.0</td>\n",
              "      <td>2.0</td>\n",
              "      <td>0.0</td>\n",
              "      <td>4.0</td>\n",
              "      <td>2.0</td>\n",
              "      <td>4.0</td>\n",
              "      <td>4.0</td>\n",
              "      <td>1.8</td>\n",
              "      <td>100.0</td>\n",
              "      <td>0.0</td>\n",
              "      <td>...</td>\n",
              "      <td>3.0</td>\n",
              "      <td>4.0</td>\n",
              "      <td>4.0</td>\n",
              "      <td>-8.0</td>\n",
              "      <td>0.0</td>\n",
              "      <td>19.0</td>\n",
              "      <td>25.0</td>\n",
              "      <td>22.0</td>\n",
              "      <td>15.0</td>\n",
              "      <td>0.0</td>\n",
              "    </tr>\n",
              "    <tr>\n",
              "      <th>75731</th>\n",
              "      <td>8.0</td>\n",
              "      <td>2.0</td>\n",
              "      <td>0.0</td>\n",
              "      <td>3.0</td>\n",
              "      <td>2.0</td>\n",
              "      <td>3.0</td>\n",
              "      <td>4.0</td>\n",
              "      <td>1.8</td>\n",
              "      <td>99.0</td>\n",
              "      <td>0.0</td>\n",
              "      <td>...</td>\n",
              "      <td>3.0</td>\n",
              "      <td>4.0</td>\n",
              "      <td>4.0</td>\n",
              "      <td>-8.0</td>\n",
              "      <td>0.0</td>\n",
              "      <td>19.0</td>\n",
              "      <td>25.0</td>\n",
              "      <td>22.0</td>\n",
              "      <td>15.0</td>\n",
              "      <td>2.0</td>\n",
              "    </tr>\n",
              "    <tr>\n",
              "      <th>75732</th>\n",
              "      <td>8.0</td>\n",
              "      <td>2.0</td>\n",
              "      <td>0.0</td>\n",
              "      <td>3.0</td>\n",
              "      <td>2.0</td>\n",
              "      <td>3.0</td>\n",
              "      <td>4.0</td>\n",
              "      <td>1.8</td>\n",
              "      <td>99.0</td>\n",
              "      <td>0.0</td>\n",
              "      <td>...</td>\n",
              "      <td>3.0</td>\n",
              "      <td>4.0</td>\n",
              "      <td>4.0</td>\n",
              "      <td>-8.0</td>\n",
              "      <td>0.0</td>\n",
              "      <td>19.0</td>\n",
              "      <td>25.0</td>\n",
              "      <td>22.0</td>\n",
              "      <td>15.0</td>\n",
              "      <td>2.0</td>\n",
              "    </tr>\n",
              "    <tr>\n",
              "      <th>75733</th>\n",
              "      <td>8.0</td>\n",
              "      <td>2.0</td>\n",
              "      <td>0.0</td>\n",
              "      <td>3.0</td>\n",
              "      <td>2.0</td>\n",
              "      <td>3.0</td>\n",
              "      <td>4.0</td>\n",
              "      <td>1.8</td>\n",
              "      <td>99.0</td>\n",
              "      <td>0.0</td>\n",
              "      <td>...</td>\n",
              "      <td>3.0</td>\n",
              "      <td>4.0</td>\n",
              "      <td>4.0</td>\n",
              "      <td>-8.0</td>\n",
              "      <td>0.0</td>\n",
              "      <td>19.0</td>\n",
              "      <td>25.0</td>\n",
              "      <td>22.0</td>\n",
              "      <td>15.0</td>\n",
              "      <td>2.0</td>\n",
              "    </tr>\n",
              "    <tr>\n",
              "      <th>75734</th>\n",
              "      <td>8.0</td>\n",
              "      <td>0.0</td>\n",
              "      <td>0.0</td>\n",
              "      <td>1.0</td>\n",
              "      <td>2.0</td>\n",
              "      <td>1.0</td>\n",
              "      <td>3.0</td>\n",
              "      <td>2.4</td>\n",
              "      <td>108.0</td>\n",
              "      <td>0.0</td>\n",
              "      <td>...</td>\n",
              "      <td>2.0</td>\n",
              "      <td>1.0</td>\n",
              "      <td>3.0</td>\n",
              "      <td>-8.0</td>\n",
              "      <td>1.0</td>\n",
              "      <td>18.0</td>\n",
              "      <td>25.0</td>\n",
              "      <td>22.0</td>\n",
              "      <td>15.0</td>\n",
              "      <td>2.0</td>\n",
              "    </tr>\n",
              "  </tbody>\n",
              "</table>\n",
              "<p>75735 rows × 21 columns</p>\n",
              "</div>\n",
              "    <div class=\"colab-df-buttons\">\n",
              "\n",
              "  <div class=\"colab-df-container\">\n",
              "    <button class=\"colab-df-convert\" onclick=\"convertToInteractive('df-75fe696c-b29c-413c-855a-ed7b79e4c9c9')\"\n",
              "            title=\"Convert this dataframe to an interactive table.\"\n",
              "            style=\"display:none;\">\n",
              "\n",
              "  <svg xmlns=\"http://www.w3.org/2000/svg\" height=\"24px\" viewBox=\"0 -960 960 960\">\n",
              "    <path d=\"M120-120v-720h720v720H120Zm60-500h600v-160H180v160Zm220 220h160v-160H400v160Zm0 220h160v-160H400v160ZM180-400h160v-160H180v160Zm440 0h160v-160H620v160ZM180-180h160v-160H180v160Zm440 0h160v-160H620v160Z\"/>\n",
              "  </svg>\n",
              "    </button>\n",
              "\n",
              "  <style>\n",
              "    .colab-df-container {\n",
              "      display:flex;\n",
              "      gap: 12px;\n",
              "    }\n",
              "\n",
              "    .colab-df-convert {\n",
              "      background-color: #E8F0FE;\n",
              "      border: none;\n",
              "      border-radius: 50%;\n",
              "      cursor: pointer;\n",
              "      display: none;\n",
              "      fill: #1967D2;\n",
              "      height: 32px;\n",
              "      padding: 0 0 0 0;\n",
              "      width: 32px;\n",
              "    }\n",
              "\n",
              "    .colab-df-convert:hover {\n",
              "      background-color: #E2EBFA;\n",
              "      box-shadow: 0px 1px 2px rgba(60, 64, 67, 0.3), 0px 1px 3px 1px rgba(60, 64, 67, 0.15);\n",
              "      fill: #174EA6;\n",
              "    }\n",
              "\n",
              "    .colab-df-buttons div {\n",
              "      margin-bottom: 4px;\n",
              "    }\n",
              "\n",
              "    [theme=dark] .colab-df-convert {\n",
              "      background-color: #3B4455;\n",
              "      fill: #D2E3FC;\n",
              "    }\n",
              "\n",
              "    [theme=dark] .colab-df-convert:hover {\n",
              "      background-color: #434B5C;\n",
              "      box-shadow: 0px 1px 3px 1px rgba(0, 0, 0, 0.15);\n",
              "      filter: drop-shadow(0px 1px 2px rgba(0, 0, 0, 0.3));\n",
              "      fill: #FFFFFF;\n",
              "    }\n",
              "  </style>\n",
              "\n",
              "    <script>\n",
              "      const buttonEl =\n",
              "        document.querySelector('#df-75fe696c-b29c-413c-855a-ed7b79e4c9c9 button.colab-df-convert');\n",
              "      buttonEl.style.display =\n",
              "        google.colab.kernel.accessAllowed ? 'block' : 'none';\n",
              "\n",
              "      async function convertToInteractive(key) {\n",
              "        const element = document.querySelector('#df-75fe696c-b29c-413c-855a-ed7b79e4c9c9');\n",
              "        const dataTable =\n",
              "          await google.colab.kernel.invokeFunction('convertToInteractive',\n",
              "                                                    [key], {});\n",
              "        if (!dataTable) return;\n",
              "\n",
              "        const docLinkHtml = 'Like what you see? Visit the ' +\n",
              "          '<a target=\"_blank\" href=https://colab.research.google.com/notebooks/data_table.ipynb>data table notebook</a>'\n",
              "          + ' to learn more about interactive tables.';\n",
              "        element.innerHTML = '';\n",
              "        dataTable['output_type'] = 'display_data';\n",
              "        await google.colab.output.renderOutput(dataTable, element);\n",
              "        const docLink = document.createElement('div');\n",
              "        docLink.innerHTML = docLinkHtml;\n",
              "        element.appendChild(docLink);\n",
              "      }\n",
              "    </script>\n",
              "  </div>\n",
              "\n",
              "\n",
              "<div id=\"df-a8bf61db-9756-4e8e-a17b-2afd112e9230\">\n",
              "  <button class=\"colab-df-quickchart\" onclick=\"quickchart('df-a8bf61db-9756-4e8e-a17b-2afd112e9230')\"\n",
              "            title=\"Suggest charts\"\n",
              "            style=\"display:none;\">\n",
              "\n",
              "<svg xmlns=\"http://www.w3.org/2000/svg\" height=\"24px\"viewBox=\"0 0 24 24\"\n",
              "     width=\"24px\">\n",
              "    <g>\n",
              "        <path d=\"M19 3H5c-1.1 0-2 .9-2 2v14c0 1.1.9 2 2 2h14c1.1 0 2-.9 2-2V5c0-1.1-.9-2-2-2zM9 17H7v-7h2v7zm4 0h-2V7h2v10zm4 0h-2v-4h2v4z\"/>\n",
              "    </g>\n",
              "</svg>\n",
              "  </button>\n",
              "\n",
              "<style>\n",
              "  .colab-df-quickchart {\n",
              "      --bg-color: #E8F0FE;\n",
              "      --fill-color: #1967D2;\n",
              "      --hover-bg-color: #E2EBFA;\n",
              "      --hover-fill-color: #174EA6;\n",
              "      --disabled-fill-color: #AAA;\n",
              "      --disabled-bg-color: #DDD;\n",
              "  }\n",
              "\n",
              "  [theme=dark] .colab-df-quickchart {\n",
              "      --bg-color: #3B4455;\n",
              "      --fill-color: #D2E3FC;\n",
              "      --hover-bg-color: #434B5C;\n",
              "      --hover-fill-color: #FFFFFF;\n",
              "      --disabled-bg-color: #3B4455;\n",
              "      --disabled-fill-color: #666;\n",
              "  }\n",
              "\n",
              "  .colab-df-quickchart {\n",
              "    background-color: var(--bg-color);\n",
              "    border: none;\n",
              "    border-radius: 50%;\n",
              "    cursor: pointer;\n",
              "    display: none;\n",
              "    fill: var(--fill-color);\n",
              "    height: 32px;\n",
              "    padding: 0;\n",
              "    width: 32px;\n",
              "  }\n",
              "\n",
              "  .colab-df-quickchart:hover {\n",
              "    background-color: var(--hover-bg-color);\n",
              "    box-shadow: 0 1px 2px rgba(60, 64, 67, 0.3), 0 1px 3px 1px rgba(60, 64, 67, 0.15);\n",
              "    fill: var(--button-hover-fill-color);\n",
              "  }\n",
              "\n",
              "  .colab-df-quickchart-complete:disabled,\n",
              "  .colab-df-quickchart-complete:disabled:hover {\n",
              "    background-color: var(--disabled-bg-color);\n",
              "    fill: var(--disabled-fill-color);\n",
              "    box-shadow: none;\n",
              "  }\n",
              "\n",
              "  .colab-df-spinner {\n",
              "    border: 2px solid var(--fill-color);\n",
              "    border-color: transparent;\n",
              "    border-bottom-color: var(--fill-color);\n",
              "    animation:\n",
              "      spin 1s steps(1) infinite;\n",
              "  }\n",
              "\n",
              "  @keyframes spin {\n",
              "    0% {\n",
              "      border-color: transparent;\n",
              "      border-bottom-color: var(--fill-color);\n",
              "      border-left-color: var(--fill-color);\n",
              "    }\n",
              "    20% {\n",
              "      border-color: transparent;\n",
              "      border-left-color: var(--fill-color);\n",
              "      border-top-color: var(--fill-color);\n",
              "    }\n",
              "    30% {\n",
              "      border-color: transparent;\n",
              "      border-left-color: var(--fill-color);\n",
              "      border-top-color: var(--fill-color);\n",
              "      border-right-color: var(--fill-color);\n",
              "    }\n",
              "    40% {\n",
              "      border-color: transparent;\n",
              "      border-right-color: var(--fill-color);\n",
              "      border-top-color: var(--fill-color);\n",
              "    }\n",
              "    60% {\n",
              "      border-color: transparent;\n",
              "      border-right-color: var(--fill-color);\n",
              "    }\n",
              "    80% {\n",
              "      border-color: transparent;\n",
              "      border-right-color: var(--fill-color);\n",
              "      border-bottom-color: var(--fill-color);\n",
              "    }\n",
              "    90% {\n",
              "      border-color: transparent;\n",
              "      border-bottom-color: var(--fill-color);\n",
              "    }\n",
              "  }\n",
              "</style>\n",
              "\n",
              "  <script>\n",
              "    async function quickchart(key) {\n",
              "      const quickchartButtonEl =\n",
              "        document.querySelector('#' + key + ' button');\n",
              "      quickchartButtonEl.disabled = true;  // To prevent multiple clicks.\n",
              "      quickchartButtonEl.classList.add('colab-df-spinner');\n",
              "      try {\n",
              "        const charts = await google.colab.kernel.invokeFunction(\n",
              "            'suggestCharts', [key], {});\n",
              "      } catch (error) {\n",
              "        console.error('Error during call to suggestCharts:', error);\n",
              "      }\n",
              "      quickchartButtonEl.classList.remove('colab-df-spinner');\n",
              "      quickchartButtonEl.classList.add('colab-df-quickchart-complete');\n",
              "    }\n",
              "    (() => {\n",
              "      let quickchartButtonEl =\n",
              "        document.querySelector('#df-a8bf61db-9756-4e8e-a17b-2afd112e9230 button');\n",
              "      quickchartButtonEl.style.display =\n",
              "        google.colab.kernel.accessAllowed ? 'block' : 'none';\n",
              "    })();\n",
              "  </script>\n",
              "</div>\n",
              "    </div>\n",
              "  </div>\n"
            ]
          },
          "metadata": {},
          "execution_count": 5
        }
      ]
    },
    {
      "cell_type": "code",
      "metadata": {
        "id": "TL0fHkViCLkb",
        "colab": {
          "base_uri": "https://localhost:8080/",
          "height": 350
        },
        "outputId": "cb656ce6-6d26-45f2-8af6-7ecde03d7892"
      },
      "source": [
        "# descripcion estadistica\n",
        "dataset.describe()"
      ],
      "execution_count": 6,
      "outputs": [
        {
          "output_type": "execute_result",
          "data": {
            "text/plain": [
              "                g1x           g1y           g2x           g2y          caps  \\\n",
              "count  75735.000000  75735.000000  75735.000000  75735.000000  75735.000000   \n",
              "mean       0.146999      0.984565     -0.026474      0.896785      1.003235   \n",
              "std        7.876012      3.852910      7.894062      3.872469      0.761217   \n",
              "min      -17.000000     -8.000000    -17.000000     -8.000000      0.000000   \n",
              "25%       -6.000000     -2.000000     -6.000000     -2.000000      0.000000   \n",
              "50%        0.000000      1.000000      0.000000      1.000000      1.000000   \n",
              "75%        6.000000      4.000000      6.000000      4.000000      2.000000   \n",
              "max       17.000000      8.000000     17.000000      8.000000      2.000000   \n",
              "\n",
              "         dist_ghost     dist_caps    dist_5dots         score        scared  \\\n",
              "count  75735.000000  75735.000000  75735.000000  75735.000000  75735.000000   \n",
              "mean       7.487767     14.087040      3.536678    356.286855      0.745507   \n",
              "std        3.700666      6.504139      1.839816    286.632408      0.925207   \n",
              "min        1.000000      1.000000      1.000000    -19.000000      0.000000   \n",
              "25%        5.000000      9.000000      2.400000    111.000000      0.000000   \n",
              "50%        7.000000     16.000000      3.000000    293.000000      0.000000   \n",
              "75%       10.000000     20.000000      4.200000    569.000000      2.000000   \n",
              "max       22.000000     25.000000     19.400000   1197.000000      2.000000   \n",
              "\n",
              "       ...         ady_e         ady_n         ady_s          pacx  \\\n",
              "count  ...  75735.000000  75735.000000  75735.000000  75735.000000   \n",
              "mean   ...      2.935723      2.772985      2.667274      0.315983   \n",
              "std    ...      0.801742      0.833087      0.766976      5.517634   \n",
              "min    ...      1.000000      1.000000      1.000000     -8.000000   \n",
              "25%    ...      2.000000      2.000000      2.000000     -5.000000   \n",
              "50%    ...      3.000000      3.000000      2.000000      0.000000   \n",
              "75%    ...      4.000000      4.000000      3.000000      6.000000   \n",
              "max    ...      4.000000      4.000000      4.000000      9.000000   \n",
              "\n",
              "               pacy       l1_dots       l2_dots       l3_dots       l4_dots  \\\n",
              "count  75735.000000  75735.000000  75735.000000  75735.000000  75735.000000   \n",
              "mean      -0.625074     13.873718     15.490447     16.283898     11.721265   \n",
              "std        2.784054     10.347824      9.567504      7.700180      5.689348   \n",
              "min       -4.000000      0.000000      0.000000      0.000000      0.000000   \n",
              "25%       -4.000000      2.000000      8.000000     11.000000      7.000000   \n",
              "50%       -1.000000     13.000000     16.000000     22.000000     14.000000   \n",
              "75%        2.000000     25.000000     25.000000     22.000000     15.000000   \n",
              "max        4.000000     25.000000     25.000000     22.000000     21.000000   \n",
              "\n",
              "             action  \n",
              "count  75735.000000  \n",
              "mean       1.670932  \n",
              "std        1.423255  \n",
              "min        0.000000  \n",
              "25%        0.000000  \n",
              "50%        2.000000  \n",
              "75%        3.000000  \n",
              "max        4.000000  \n",
              "\n",
              "[8 rows x 21 columns]"
            ],
            "text/html": [
              "\n",
              "  <div id=\"df-46237e7f-f687-4839-982e-6bfe3b2f74ea\" class=\"colab-df-container\">\n",
              "    <div>\n",
              "<style scoped>\n",
              "    .dataframe tbody tr th:only-of-type {\n",
              "        vertical-align: middle;\n",
              "    }\n",
              "\n",
              "    .dataframe tbody tr th {\n",
              "        vertical-align: top;\n",
              "    }\n",
              "\n",
              "    .dataframe thead th {\n",
              "        text-align: right;\n",
              "    }\n",
              "</style>\n",
              "<table border=\"1\" class=\"dataframe\">\n",
              "  <thead>\n",
              "    <tr style=\"text-align: right;\">\n",
              "      <th></th>\n",
              "      <th>g1x</th>\n",
              "      <th>g1y</th>\n",
              "      <th>g2x</th>\n",
              "      <th>g2y</th>\n",
              "      <th>caps</th>\n",
              "      <th>dist_ghost</th>\n",
              "      <th>dist_caps</th>\n",
              "      <th>dist_5dots</th>\n",
              "      <th>score</th>\n",
              "      <th>scared</th>\n",
              "      <th>...</th>\n",
              "      <th>ady_e</th>\n",
              "      <th>ady_n</th>\n",
              "      <th>ady_s</th>\n",
              "      <th>pacx</th>\n",
              "      <th>pacy</th>\n",
              "      <th>l1_dots</th>\n",
              "      <th>l2_dots</th>\n",
              "      <th>l3_dots</th>\n",
              "      <th>l4_dots</th>\n",
              "      <th>action</th>\n",
              "    </tr>\n",
              "  </thead>\n",
              "  <tbody>\n",
              "    <tr>\n",
              "      <th>count</th>\n",
              "      <td>75735.000000</td>\n",
              "      <td>75735.000000</td>\n",
              "      <td>75735.000000</td>\n",
              "      <td>75735.000000</td>\n",
              "      <td>75735.000000</td>\n",
              "      <td>75735.000000</td>\n",
              "      <td>75735.000000</td>\n",
              "      <td>75735.000000</td>\n",
              "      <td>75735.000000</td>\n",
              "      <td>75735.000000</td>\n",
              "      <td>...</td>\n",
              "      <td>75735.000000</td>\n",
              "      <td>75735.000000</td>\n",
              "      <td>75735.000000</td>\n",
              "      <td>75735.000000</td>\n",
              "      <td>75735.000000</td>\n",
              "      <td>75735.000000</td>\n",
              "      <td>75735.000000</td>\n",
              "      <td>75735.000000</td>\n",
              "      <td>75735.000000</td>\n",
              "      <td>75735.000000</td>\n",
              "    </tr>\n",
              "    <tr>\n",
              "      <th>mean</th>\n",
              "      <td>0.146999</td>\n",
              "      <td>0.984565</td>\n",
              "      <td>-0.026474</td>\n",
              "      <td>0.896785</td>\n",
              "      <td>1.003235</td>\n",
              "      <td>7.487767</td>\n",
              "      <td>14.087040</td>\n",
              "      <td>3.536678</td>\n",
              "      <td>356.286855</td>\n",
              "      <td>0.745507</td>\n",
              "      <td>...</td>\n",
              "      <td>2.935723</td>\n",
              "      <td>2.772985</td>\n",
              "      <td>2.667274</td>\n",
              "      <td>0.315983</td>\n",
              "      <td>-0.625074</td>\n",
              "      <td>13.873718</td>\n",
              "      <td>15.490447</td>\n",
              "      <td>16.283898</td>\n",
              "      <td>11.721265</td>\n",
              "      <td>1.670932</td>\n",
              "    </tr>\n",
              "    <tr>\n",
              "      <th>std</th>\n",
              "      <td>7.876012</td>\n",
              "      <td>3.852910</td>\n",
              "      <td>7.894062</td>\n",
              "      <td>3.872469</td>\n",
              "      <td>0.761217</td>\n",
              "      <td>3.700666</td>\n",
              "      <td>6.504139</td>\n",
              "      <td>1.839816</td>\n",
              "      <td>286.632408</td>\n",
              "      <td>0.925207</td>\n",
              "      <td>...</td>\n",
              "      <td>0.801742</td>\n",
              "      <td>0.833087</td>\n",
              "      <td>0.766976</td>\n",
              "      <td>5.517634</td>\n",
              "      <td>2.784054</td>\n",
              "      <td>10.347824</td>\n",
              "      <td>9.567504</td>\n",
              "      <td>7.700180</td>\n",
              "      <td>5.689348</td>\n",
              "      <td>1.423255</td>\n",
              "    </tr>\n",
              "    <tr>\n",
              "      <th>min</th>\n",
              "      <td>-17.000000</td>\n",
              "      <td>-8.000000</td>\n",
              "      <td>-17.000000</td>\n",
              "      <td>-8.000000</td>\n",
              "      <td>0.000000</td>\n",
              "      <td>1.000000</td>\n",
              "      <td>1.000000</td>\n",
              "      <td>1.000000</td>\n",
              "      <td>-19.000000</td>\n",
              "      <td>0.000000</td>\n",
              "      <td>...</td>\n",
              "      <td>1.000000</td>\n",
              "      <td>1.000000</td>\n",
              "      <td>1.000000</td>\n",
              "      <td>-8.000000</td>\n",
              "      <td>-4.000000</td>\n",
              "      <td>0.000000</td>\n",
              "      <td>0.000000</td>\n",
              "      <td>0.000000</td>\n",
              "      <td>0.000000</td>\n",
              "      <td>0.000000</td>\n",
              "    </tr>\n",
              "    <tr>\n",
              "      <th>25%</th>\n",
              "      <td>-6.000000</td>\n",
              "      <td>-2.000000</td>\n",
              "      <td>-6.000000</td>\n",
              "      <td>-2.000000</td>\n",
              "      <td>0.000000</td>\n",
              "      <td>5.000000</td>\n",
              "      <td>9.000000</td>\n",
              "      <td>2.400000</td>\n",
              "      <td>111.000000</td>\n",
              "      <td>0.000000</td>\n",
              "      <td>...</td>\n",
              "      <td>2.000000</td>\n",
              "      <td>2.000000</td>\n",
              "      <td>2.000000</td>\n",
              "      <td>-5.000000</td>\n",
              "      <td>-4.000000</td>\n",
              "      <td>2.000000</td>\n",
              "      <td>8.000000</td>\n",
              "      <td>11.000000</td>\n",
              "      <td>7.000000</td>\n",
              "      <td>0.000000</td>\n",
              "    </tr>\n",
              "    <tr>\n",
              "      <th>50%</th>\n",
              "      <td>0.000000</td>\n",
              "      <td>1.000000</td>\n",
              "      <td>0.000000</td>\n",
              "      <td>1.000000</td>\n",
              "      <td>1.000000</td>\n",
              "      <td>7.000000</td>\n",
              "      <td>16.000000</td>\n",
              "      <td>3.000000</td>\n",
              "      <td>293.000000</td>\n",
              "      <td>0.000000</td>\n",
              "      <td>...</td>\n",
              "      <td>3.000000</td>\n",
              "      <td>3.000000</td>\n",
              "      <td>2.000000</td>\n",
              "      <td>0.000000</td>\n",
              "      <td>-1.000000</td>\n",
              "      <td>13.000000</td>\n",
              "      <td>16.000000</td>\n",
              "      <td>22.000000</td>\n",
              "      <td>14.000000</td>\n",
              "      <td>2.000000</td>\n",
              "    </tr>\n",
              "    <tr>\n",
              "      <th>75%</th>\n",
              "      <td>6.000000</td>\n",
              "      <td>4.000000</td>\n",
              "      <td>6.000000</td>\n",
              "      <td>4.000000</td>\n",
              "      <td>2.000000</td>\n",
              "      <td>10.000000</td>\n",
              "      <td>20.000000</td>\n",
              "      <td>4.200000</td>\n",
              "      <td>569.000000</td>\n",
              "      <td>2.000000</td>\n",
              "      <td>...</td>\n",
              "      <td>4.000000</td>\n",
              "      <td>4.000000</td>\n",
              "      <td>3.000000</td>\n",
              "      <td>6.000000</td>\n",
              "      <td>2.000000</td>\n",
              "      <td>25.000000</td>\n",
              "      <td>25.000000</td>\n",
              "      <td>22.000000</td>\n",
              "      <td>15.000000</td>\n",
              "      <td>3.000000</td>\n",
              "    </tr>\n",
              "    <tr>\n",
              "      <th>max</th>\n",
              "      <td>17.000000</td>\n",
              "      <td>8.000000</td>\n",
              "      <td>17.000000</td>\n",
              "      <td>8.000000</td>\n",
              "      <td>2.000000</td>\n",
              "      <td>22.000000</td>\n",
              "      <td>25.000000</td>\n",
              "      <td>19.400000</td>\n",
              "      <td>1197.000000</td>\n",
              "      <td>2.000000</td>\n",
              "      <td>...</td>\n",
              "      <td>4.000000</td>\n",
              "      <td>4.000000</td>\n",
              "      <td>4.000000</td>\n",
              "      <td>9.000000</td>\n",
              "      <td>4.000000</td>\n",
              "      <td>25.000000</td>\n",
              "      <td>25.000000</td>\n",
              "      <td>22.000000</td>\n",
              "      <td>21.000000</td>\n",
              "      <td>4.000000</td>\n",
              "    </tr>\n",
              "  </tbody>\n",
              "</table>\n",
              "<p>8 rows × 21 columns</p>\n",
              "</div>\n",
              "    <div class=\"colab-df-buttons\">\n",
              "\n",
              "  <div class=\"colab-df-container\">\n",
              "    <button class=\"colab-df-convert\" onclick=\"convertToInteractive('df-46237e7f-f687-4839-982e-6bfe3b2f74ea')\"\n",
              "            title=\"Convert this dataframe to an interactive table.\"\n",
              "            style=\"display:none;\">\n",
              "\n",
              "  <svg xmlns=\"http://www.w3.org/2000/svg\" height=\"24px\" viewBox=\"0 -960 960 960\">\n",
              "    <path d=\"M120-120v-720h720v720H120Zm60-500h600v-160H180v160Zm220 220h160v-160H400v160Zm0 220h160v-160H400v160ZM180-400h160v-160H180v160Zm440 0h160v-160H620v160ZM180-180h160v-160H180v160Zm440 0h160v-160H620v160Z\"/>\n",
              "  </svg>\n",
              "    </button>\n",
              "\n",
              "  <style>\n",
              "    .colab-df-container {\n",
              "      display:flex;\n",
              "      gap: 12px;\n",
              "    }\n",
              "\n",
              "    .colab-df-convert {\n",
              "      background-color: #E8F0FE;\n",
              "      border: none;\n",
              "      border-radius: 50%;\n",
              "      cursor: pointer;\n",
              "      display: none;\n",
              "      fill: #1967D2;\n",
              "      height: 32px;\n",
              "      padding: 0 0 0 0;\n",
              "      width: 32px;\n",
              "    }\n",
              "\n",
              "    .colab-df-convert:hover {\n",
              "      background-color: #E2EBFA;\n",
              "      box-shadow: 0px 1px 2px rgba(60, 64, 67, 0.3), 0px 1px 3px 1px rgba(60, 64, 67, 0.15);\n",
              "      fill: #174EA6;\n",
              "    }\n",
              "\n",
              "    .colab-df-buttons div {\n",
              "      margin-bottom: 4px;\n",
              "    }\n",
              "\n",
              "    [theme=dark] .colab-df-convert {\n",
              "      background-color: #3B4455;\n",
              "      fill: #D2E3FC;\n",
              "    }\n",
              "\n",
              "    [theme=dark] .colab-df-convert:hover {\n",
              "      background-color: #434B5C;\n",
              "      box-shadow: 0px 1px 3px 1px rgba(0, 0, 0, 0.15);\n",
              "      filter: drop-shadow(0px 1px 2px rgba(0, 0, 0, 0.3));\n",
              "      fill: #FFFFFF;\n",
              "    }\n",
              "  </style>\n",
              "\n",
              "    <script>\n",
              "      const buttonEl =\n",
              "        document.querySelector('#df-46237e7f-f687-4839-982e-6bfe3b2f74ea button.colab-df-convert');\n",
              "      buttonEl.style.display =\n",
              "        google.colab.kernel.accessAllowed ? 'block' : 'none';\n",
              "\n",
              "      async function convertToInteractive(key) {\n",
              "        const element = document.querySelector('#df-46237e7f-f687-4839-982e-6bfe3b2f74ea');\n",
              "        const dataTable =\n",
              "          await google.colab.kernel.invokeFunction('convertToInteractive',\n",
              "                                                    [key], {});\n",
              "        if (!dataTable) return;\n",
              "\n",
              "        const docLinkHtml = 'Like what you see? Visit the ' +\n",
              "          '<a target=\"_blank\" href=https://colab.research.google.com/notebooks/data_table.ipynb>data table notebook</a>'\n",
              "          + ' to learn more about interactive tables.';\n",
              "        element.innerHTML = '';\n",
              "        dataTable['output_type'] = 'display_data';\n",
              "        await google.colab.output.renderOutput(dataTable, element);\n",
              "        const docLink = document.createElement('div');\n",
              "        docLink.innerHTML = docLinkHtml;\n",
              "        element.appendChild(docLink);\n",
              "      }\n",
              "    </script>\n",
              "  </div>\n",
              "\n",
              "\n",
              "<div id=\"df-c16db932-0209-4b45-a545-145853cbf218\">\n",
              "  <button class=\"colab-df-quickchart\" onclick=\"quickchart('df-c16db932-0209-4b45-a545-145853cbf218')\"\n",
              "            title=\"Suggest charts\"\n",
              "            style=\"display:none;\">\n",
              "\n",
              "<svg xmlns=\"http://www.w3.org/2000/svg\" height=\"24px\"viewBox=\"0 0 24 24\"\n",
              "     width=\"24px\">\n",
              "    <g>\n",
              "        <path d=\"M19 3H5c-1.1 0-2 .9-2 2v14c0 1.1.9 2 2 2h14c1.1 0 2-.9 2-2V5c0-1.1-.9-2-2-2zM9 17H7v-7h2v7zm4 0h-2V7h2v10zm4 0h-2v-4h2v4z\"/>\n",
              "    </g>\n",
              "</svg>\n",
              "  </button>\n",
              "\n",
              "<style>\n",
              "  .colab-df-quickchart {\n",
              "      --bg-color: #E8F0FE;\n",
              "      --fill-color: #1967D2;\n",
              "      --hover-bg-color: #E2EBFA;\n",
              "      --hover-fill-color: #174EA6;\n",
              "      --disabled-fill-color: #AAA;\n",
              "      --disabled-bg-color: #DDD;\n",
              "  }\n",
              "\n",
              "  [theme=dark] .colab-df-quickchart {\n",
              "      --bg-color: #3B4455;\n",
              "      --fill-color: #D2E3FC;\n",
              "      --hover-bg-color: #434B5C;\n",
              "      --hover-fill-color: #FFFFFF;\n",
              "      --disabled-bg-color: #3B4455;\n",
              "      --disabled-fill-color: #666;\n",
              "  }\n",
              "\n",
              "  .colab-df-quickchart {\n",
              "    background-color: var(--bg-color);\n",
              "    border: none;\n",
              "    border-radius: 50%;\n",
              "    cursor: pointer;\n",
              "    display: none;\n",
              "    fill: var(--fill-color);\n",
              "    height: 32px;\n",
              "    padding: 0;\n",
              "    width: 32px;\n",
              "  }\n",
              "\n",
              "  .colab-df-quickchart:hover {\n",
              "    background-color: var(--hover-bg-color);\n",
              "    box-shadow: 0 1px 2px rgba(60, 64, 67, 0.3), 0 1px 3px 1px rgba(60, 64, 67, 0.15);\n",
              "    fill: var(--button-hover-fill-color);\n",
              "  }\n",
              "\n",
              "  .colab-df-quickchart-complete:disabled,\n",
              "  .colab-df-quickchart-complete:disabled:hover {\n",
              "    background-color: var(--disabled-bg-color);\n",
              "    fill: var(--disabled-fill-color);\n",
              "    box-shadow: none;\n",
              "  }\n",
              "\n",
              "  .colab-df-spinner {\n",
              "    border: 2px solid var(--fill-color);\n",
              "    border-color: transparent;\n",
              "    border-bottom-color: var(--fill-color);\n",
              "    animation:\n",
              "      spin 1s steps(1) infinite;\n",
              "  }\n",
              "\n",
              "  @keyframes spin {\n",
              "    0% {\n",
              "      border-color: transparent;\n",
              "      border-bottom-color: var(--fill-color);\n",
              "      border-left-color: var(--fill-color);\n",
              "    }\n",
              "    20% {\n",
              "      border-color: transparent;\n",
              "      border-left-color: var(--fill-color);\n",
              "      border-top-color: var(--fill-color);\n",
              "    }\n",
              "    30% {\n",
              "      border-color: transparent;\n",
              "      border-left-color: var(--fill-color);\n",
              "      border-top-color: var(--fill-color);\n",
              "      border-right-color: var(--fill-color);\n",
              "    }\n",
              "    40% {\n",
              "      border-color: transparent;\n",
              "      border-right-color: var(--fill-color);\n",
              "      border-top-color: var(--fill-color);\n",
              "    }\n",
              "    60% {\n",
              "      border-color: transparent;\n",
              "      border-right-color: var(--fill-color);\n",
              "    }\n",
              "    80% {\n",
              "      border-color: transparent;\n",
              "      border-right-color: var(--fill-color);\n",
              "      border-bottom-color: var(--fill-color);\n",
              "    }\n",
              "    90% {\n",
              "      border-color: transparent;\n",
              "      border-bottom-color: var(--fill-color);\n",
              "    }\n",
              "  }\n",
              "</style>\n",
              "\n",
              "  <script>\n",
              "    async function quickchart(key) {\n",
              "      const quickchartButtonEl =\n",
              "        document.querySelector('#' + key + ' button');\n",
              "      quickchartButtonEl.disabled = true;  // To prevent multiple clicks.\n",
              "      quickchartButtonEl.classList.add('colab-df-spinner');\n",
              "      try {\n",
              "        const charts = await google.colab.kernel.invokeFunction(\n",
              "            'suggestCharts', [key], {});\n",
              "      } catch (error) {\n",
              "        console.error('Error during call to suggestCharts:', error);\n",
              "      }\n",
              "      quickchartButtonEl.classList.remove('colab-df-spinner');\n",
              "      quickchartButtonEl.classList.add('colab-df-quickchart-complete');\n",
              "    }\n",
              "    (() => {\n",
              "      let quickchartButtonEl =\n",
              "        document.querySelector('#df-c16db932-0209-4b45-a545-145853cbf218 button');\n",
              "      quickchartButtonEl.style.display =\n",
              "        google.colab.kernel.accessAllowed ? 'block' : 'none';\n",
              "    })();\n",
              "  </script>\n",
              "</div>\n",
              "    </div>\n",
              "  </div>\n"
            ]
          },
          "metadata": {},
          "execution_count": 6
        }
      ]
    },
    {
      "cell_type": "code",
      "metadata": {
        "colab": {
          "base_uri": "https://localhost:8080/"
        },
        "id": "ZAH1axhhCLkb",
        "outputId": "e6a360d7-763e-4787-ecea-05116dcfcf56"
      },
      "source": [
        "# distribucion de clases\n",
        "print(dataset.groupby('action').size())"
      ],
      "execution_count": 7,
      "outputs": [
        {
          "output_type": "stream",
          "name": "stdout",
          "text": [
            "action\n",
            "0.0    22815\n",
            "1.0    14641\n",
            "2.0    13111\n",
            "3.0    14987\n",
            "4.0    10181\n",
            "dtype: int64\n"
          ]
        }
      ]
    },
    {
      "cell_type": "code",
      "metadata": {
        "id": "_5eSVMS1CLkc",
        "colab": {
          "base_uri": "https://localhost:8080/",
          "height": 452
        },
        "outputId": "ebb1e5c0-4bcc-4f04-b818-86383590f060"
      },
      "source": [
        "# histogramas\n",
        "dataset.hist()\n",
        "plt.show()"
      ],
      "execution_count": 8,
      "outputs": [
        {
          "output_type": "display_data",
          "data": {
            "text/plain": [
              "<Figure size 640x480 with 25 Axes>"
            ],
            "image/png": "[encoded data removed]"
          },
          "metadata": {}
        }
      ]
    },
    {
      "cell_type": "markdown",
      "metadata": {
        "id": "_CezEybepWW3"
      },
      "source": [
        "## Paso 2: Pre-procesar datos y crear modelos"
      ]
    },
    {
      "cell_type": "markdown",
      "metadata": {
        "id": "oE4RXibFpWW4"
      },
      "source": [
        "### 2.1) Separa features y etiquetas y codifica etiquetas con numeros"
      ]
    },
    {
      "cell_type": "code",
      "metadata": {
        "colab": {
          "base_uri": "https://localhost:8080/"
        },
        "id": "7bn9IZFpCd2h",
        "outputId": "6dad533c-abe9-4244-8ae3-46ef80c107cb"
      },
      "source": [
        "array = dataset.values\n",
        "array"
      ],
      "execution_count": 9,
      "outputs": [
        {
          "output_type": "execute_result",
          "data": {
            "text/plain": [
              "array([[-1.,  4.,  2., ..., 22., 21.,  0.],\n",
              "       [-1.,  4.,  2., ..., 22., 21.,  0.],\n",
              "       [-1.,  4.,  2., ..., 22., 21.,  0.],\n",
              "       ...,\n",
              "       [ 8.,  2.,  0., ..., 22., 15.,  2.],\n",
              "       [ 8.,  2.,  0., ..., 22., 15.,  2.],\n",
              "       [ 8.,  0.,  0., ..., 22., 15.,  2.]])"
            ]
          },
          "metadata": {},
          "execution_count": 9
        }
      ]
    },
    {
      "cell_type": "markdown",
      "metadata": {
        "id": "oNkqmJnnCjJf"
      },
      "source": [
        "Convertimos el DataFrame a un numpy array y luego normalizamos los datos:"
      ]
    },
    {
      "cell_type": "code",
      "metadata": {
        "id": "Gi6H-bu0ChDW"
      },
      "source": [
        "# separa features y labels en 2 variables\n",
        "X = array[:,:20]   # features\n",
        "Y = array[:,20]     # labels\n",
        "\n",
        "from sklearn.preprocessing import MinMaxScaler\n",
        "\n",
        "scaler_X = MinMaxScaler((0, 1)).fit(X)\n",
        "\n",
        "Xnn = scaler_X.transform(X)\n",
        "Ynn  = Y"
      ],
      "execution_count": 10,
      "outputs": []
    },
    {
      "cell_type": "code",
      "source": [
        "Xnn.dtype"
      ],
      "metadata": {
        "colab": {
          "base_uri": "https://localhost:8080/"
        },
        "id": "CL-hibFd63Fe",
        "outputId": "d7870521-b06a-4378-9b2e-9242ab188e39"
      },
      "execution_count": 11,
      "outputs": [
        {
          "output_type": "execute_result",
          "data": {
            "text/plain": [
              "dtype('float64')"
            ]
          },
          "metadata": {},
          "execution_count": 11
        }
      ]
    },
    {
      "cell_type": "markdown",
      "metadata": {
        "id": "yLrQ83afCwPs"
      },
      "source": [
        "Veamos las estadísticas de los datos normalizados:"
      ]
    },
    {
      "cell_type": "code",
      "metadata": {
        "id": "EGFYN-F6CueR",
        "colab": {
          "base_uri": "https://localhost:8080/",
          "height": 444
        },
        "outputId": "2fc1360a-7954-439e-9acb-5ca7353e08d1"
      },
      "source": [
        "ds = pandas.DataFrame(Xnn)\n",
        "ds.describe()\n",
        "ds"
      ],
      "execution_count": 12,
      "outputs": [
        {
          "output_type": "execute_result",
          "data": {
            "text/plain": [
              "             0      1         2       3    4         5         6         7   \\\n",
              "0      0.470588  0.750  0.558824  0.7500  1.0  0.190476  0.333333  0.097826   \n",
              "1      0.470588  0.750  0.558824  0.7500  1.0  0.190476  0.333333  0.097826   \n",
              "2      0.470588  0.750  0.558824  0.7500  1.0  0.190476  0.333333  0.097826   \n",
              "3      0.500000  0.750  0.529412  0.7500  1.0  0.142857  0.333333  0.097826   \n",
              "4      0.500000  0.750  0.529412  0.7500  1.0  0.142857  0.333333  0.097826   \n",
              "...         ...    ...       ...     ...  ...       ...       ...       ...   \n",
              "75730  0.705882  0.625  0.500000  0.7500  1.0  0.142857  0.125000  0.043478   \n",
              "75731  0.735294  0.625  0.500000  0.6875  1.0  0.095238  0.125000  0.043478   \n",
              "75732  0.735294  0.625  0.500000  0.6875  1.0  0.095238  0.125000  0.043478   \n",
              "75733  0.735294  0.625  0.500000  0.6875  1.0  0.095238  0.125000  0.043478   \n",
              "75734  0.735294  0.500  0.500000  0.5625  1.0  0.000000  0.083333  0.076087   \n",
              "\n",
              "             8    9         10        11        12        13        14     15  \\\n",
              "0      0.015625  0.0  1.000000  1.000000  0.333333  0.333333  0.470588  0.000   \n",
              "1      0.015625  0.0  1.000000  1.000000  0.333333  0.333333  0.470588  0.000   \n",
              "2      0.015625  0.0  1.000000  1.000000  0.333333  0.333333  0.470588  0.000   \n",
              "3      0.014803  0.0  1.000000  1.000000  0.333333  0.333333  0.470588  0.000   \n",
              "4      0.014803  0.0  1.000000  1.000000  0.333333  0.333333  0.470588  0.000   \n",
              "...         ...  ...       ...       ...       ...       ...       ...    ...   \n",
              "75730  0.097862  0.0  0.333333  0.666667  1.000000  1.000000  0.000000  0.500   \n",
              "75731  0.097039  0.0  0.333333  0.666667  1.000000  1.000000  0.000000  0.500   \n",
              "75732  0.097039  0.0  0.333333  0.666667  1.000000  1.000000  0.000000  0.500   \n",
              "75733  0.097039  0.0  0.333333  0.666667  1.000000  1.000000  0.000000  0.500   \n",
              "75734  0.104441  0.0  0.333333  0.333333  0.000000  0.666667  0.000000  0.625   \n",
              "\n",
              "         16   17   18        19  \n",
              "0      1.00  1.0  1.0  1.000000  \n",
              "1      1.00  1.0  1.0  1.000000  \n",
              "2      1.00  1.0  1.0  1.000000  \n",
              "3      1.00  1.0  1.0  1.000000  \n",
              "4      1.00  1.0  1.0  1.000000  \n",
              "...     ...  ...  ...       ...  \n",
              "75730  0.76  1.0  1.0  0.714286  \n",
              "75731  0.76  1.0  1.0  0.714286  \n",
              "75732  0.76  1.0  1.0  0.714286  \n",
              "75733  0.76  1.0  1.0  0.714286  \n",
              "75734  0.72  1.0  1.0  0.714286  \n",
              "\n",
              "[75735 rows x 20 columns]"
            ],
            "text/html": [
              "\n",
              "  <div id=\"df-5eafe279-de2e-48b7-9fe0-ca730b0d6ba5\" class=\"colab-df-container\">\n",
              "    <div>\n",
              "<style scoped>\n",
              "    .dataframe tbody tr th:only-of-type {\n",
              "        vertical-align: middle;\n",
              "    }\n",
              "\n",
              "    .dataframe tbody tr th {\n",
              "        vertical-align: top;\n",
              "    }\n",
              "\n",
              "    .dataframe thead th {\n",
              "        text-align: right;\n",
              "    }\n",
              "</style>\n",
              "<table border=\"1\" class=\"dataframe\">\n",
              "  <thead>\n",
              "    <tr style=\"text-align: right;\">\n",
              "      <th></th>\n",
              "      <th>0</th>\n",
              "      <th>1</th>\n",
              "      <th>2</th>\n",
              "      <th>3</th>\n",
              "      <th>4</th>\n",
              "      <th>5</th>\n",
              "      <th>6</th>\n",
              "      <th>7</th>\n",
              "      <th>8</th>\n",
              "      <th>9</th>\n",
              "      <th>10</th>\n",
              "      <th>11</th>\n",
              "      <th>12</th>\n",
              "      <th>13</th>\n",
              "      <th>14</th>\n",
              "      <th>15</th>\n",
              "      <th>16</th>\n",
              "      <th>17</th>\n",
              "      <th>18</th>\n",
              "      <th>19</th>\n",
              "    </tr>\n",
              "  </thead>\n",
              "  <tbody>\n",
              "    <tr>\n",
              "      <th>0</th>\n",
              "      <td>0.470588</td>\n",
              "      <td>0.750</td>\n",
              "      <td>0.558824</td>\n",
              "      <td>0.7500</td>\n",
              "      <td>1.0</td>\n",
              "      <td>0.190476</td>\n",
              "      <td>0.333333</td>\n",
              "      <td>0.097826</td>\n",
              "      <td>0.015625</td>\n",
              "      <td>0.0</td>\n",
              "      <td>1.000000</td>\n",
              "      <td>1.000000</td>\n",
              "      <td>0.333333</td>\n",
              "      <td>0.333333</td>\n",
              "      <td>0.470588</td>\n",
              "      <td>0.000</td>\n",
              "      <td>1.00</td>\n",
              "      <td>1.0</td>\n",
              "      <td>1.0</td>\n",
              "      <td>1.000000</td>\n",
              "    </tr>\n",
              "    <tr>\n",
              "      <th>1</th>\n",
              "      <td>0.470588</td>\n",
              "      <td>0.750</td>\n",
              "      <td>0.558824</td>\n",
              "      <td>0.7500</td>\n",
              "      <td>1.0</td>\n",
              "      <td>0.190476</td>\n",
              "      <td>0.333333</td>\n",
              "      <td>0.097826</td>\n",
              "      <td>0.015625</td>\n",
              "      <td>0.0</td>\n",
              "      <td>1.000000</td>\n",
              "      <td>1.000000</td>\n",
              "      <td>0.333333</td>\n",
              "      <td>0.333333</td>\n",
              "      <td>0.470588</td>\n",
              "      <td>0.000</td>\n",
              "      <td>1.00</td>\n",
              "      <td>1.0</td>\n",
              "      <td>1.0</td>\n",
              "      <td>1.000000</td>\n",
              "    </tr>\n",
              "    <tr>\n",
              "      <th>2</th>\n",
              "      <td>0.470588</td>\n",
              "      <td>0.750</td>\n",
              "      <td>0.558824</td>\n",
              "      <td>0.7500</td>\n",
              "      <td>1.0</td>\n",
              "      <td>0.190476</td>\n",
              "      <td>0.333333</td>\n",
              "      <td>0.097826</td>\n",
              "      <td>0.015625</td>\n",
              "      <td>0.0</td>\n",
              "      <td>1.000000</td>\n",
              "      <td>1.000000</td>\n",
              "      <td>0.333333</td>\n",
              "      <td>0.333333</td>\n",
              "      <td>0.470588</td>\n",
              "      <td>0.000</td>\n",
              "      <td>1.00</td>\n",
              "      <td>1.0</td>\n",
              "      <td>1.0</td>\n",
              "      <td>1.000000</td>\n",
              "    </tr>\n",
              "    <tr>\n",
              "      <th>3</th>\n",
              "      <td>0.500000</td>\n",
              "      <td>0.750</td>\n",
              "      <td>0.529412</td>\n",
              "      <td>0.7500</td>\n",
              "      <td>1.0</td>\n",
              "      <td>0.142857</td>\n",
              "      <td>0.333333</td>\n",
              "      <td>0.097826</td>\n",
              "      <td>0.014803</td>\n",
              "      <td>0.0</td>\n",
              "      <td>1.000000</td>\n",
              "      <td>1.000000</td>\n",
              "      <td>0.333333</td>\n",
              "      <td>0.333333</td>\n",
              "      <td>0.470588</td>\n",
              "      <td>0.000</td>\n",
              "      <td>1.00</td>\n",
              "      <td>1.0</td>\n",
              "      <td>1.0</td>\n",
              "      <td>1.000000</td>\n",
              "    </tr>\n",
              "    <tr>\n",
              "      <th>4</th>\n",
              "      <td>0.500000</td>\n",
              "      <td>0.750</td>\n",
              "      <td>0.529412</td>\n",
              "      <td>0.7500</td>\n",
              "      <td>1.0</td>\n",
              "      <td>0.142857</td>\n",
              "      <td>0.333333</td>\n",
              "      <td>0.097826</td>\n",
              "      <td>0.014803</td>\n",
              "      <td>0.0</td>\n",
              "      <td>1.000000</td>\n",
              "      <td>1.000000</td>\n",
              "      <td>0.333333</td>\n",
              "      <td>0.333333</td>\n",
              "      <td>0.470588</td>\n",
              "      <td>0.000</td>\n",
              "      <td>1.00</td>\n",
              "      <td>1.0</td>\n",
              "      <td>1.0</td>\n",
              "      <td>1.000000</td>\n",
              "    </tr>\n",
              "    <tr>\n",
              "      <th>...</th>\n",
              "      <td>...</td>\n",
              "      <td>...</td>\n",
              "      <td>...</td>\n",
              "      <td>...</td>\n",
              "      <td>...</td>\n",
              "      <td>...</td>\n",
              "      <td>...</td>\n",
              "      <td>...</td>\n",
              "      <td>...</td>\n",
              "      <td>...</td>\n",
              "      <td>...</td>\n",
              "      <td>...</td>\n",
              "      <td>...</td>\n",
              "      <td>...</td>\n",
              "      <td>...</td>\n",
              "      <td>...</td>\n",
              "      <td>...</td>\n",
              "      <td>...</td>\n",
              "      <td>...</td>\n",
              "      <td>...</td>\n",
              "    </tr>\n",
              "    <tr>\n",
              "      <th>75730</th>\n",
              "      <td>0.705882</td>\n",
              "      <td>0.625</td>\n",
              "      <td>0.500000</td>\n",
              "      <td>0.7500</td>\n",
              "      <td>1.0</td>\n",
              "      <td>0.142857</td>\n",
              "      <td>0.125000</td>\n",
              "      <td>0.043478</td>\n",
              "      <td>0.097862</td>\n",
              "      <td>0.0</td>\n",
              "      <td>0.333333</td>\n",
              "      <td>0.666667</td>\n",
              "      <td>1.000000</td>\n",
              "      <td>1.000000</td>\n",
              "      <td>0.000000</td>\n",
              "      <td>0.500</td>\n",
              "      <td>0.76</td>\n",
              "      <td>1.0</td>\n",
              "      <td>1.0</td>\n",
              "      <td>0.714286</td>\n",
              "    </tr>\n",
              "    <tr>\n",
              "      <th>75731</th>\n",
              "      <td>0.735294</td>\n",
              "      <td>0.625</td>\n",
              "      <td>0.500000</td>\n",
              "      <td>0.6875</td>\n",
              "      <td>1.0</td>\n",
              "      <td>0.095238</td>\n",
              "      <td>0.125000</td>\n",
              "      <td>0.043478</td>\n",
              "      <td>0.097039</td>\n",
              "      <td>0.0</td>\n",
              "      <td>0.333333</td>\n",
              "      <td>0.666667</td>\n",
              "      <td>1.000000</td>\n",
              "      <td>1.000000</td>\n",
              "      <td>0.000000</td>\n",
              "      <td>0.500</td>\n",
              "      <td>0.76</td>\n",
              "      <td>1.0</td>\n",
              "      <td>1.0</td>\n",
              "      <td>0.714286</td>\n",
              "    </tr>\n",
              "    <tr>\n",
              "      <th>75732</th>\n",
              "      <td>0.735294</td>\n",
              "      <td>0.625</td>\n",
              "      <td>0.500000</td>\n",
              "      <td>0.6875</td>\n",
              "      <td>1.0</td>\n",
              "      <td>0.095238</td>\n",
              "      <td>0.125000</td>\n",
              "      <td>0.043478</td>\n",
              "      <td>0.097039</td>\n",
              "      <td>0.0</td>\n",
              "      <td>0.333333</td>\n",
              "      <td>0.666667</td>\n",
              "      <td>1.000000</td>\n",
              "      <td>1.000000</td>\n",
              "      <td>0.000000</td>\n",
              "      <td>0.500</td>\n",
              "      <td>0.76</td>\n",
              "      <td>1.0</td>\n",
              "      <td>1.0</td>\n",
              "      <td>0.714286</td>\n",
              "    </tr>\n",
              "    <tr>\n",
              "      <th>75733</th>\n",
              "      <td>0.735294</td>\n",
              "      <td>0.625</td>\n",
              "      <td>0.500000</td>\n",
              "      <td>0.6875</td>\n",
              "      <td>1.0</td>\n",
              "      <td>0.095238</td>\n",
              "      <td>0.125000</td>\n",
              "      <td>0.043478</td>\n",
              "      <td>0.097039</td>\n",
              "      <td>0.0</td>\n",
              "      <td>0.333333</td>\n",
              "      <td>0.666667</td>\n",
              "      <td>1.000000</td>\n",
              "      <td>1.000000</td>\n",
              "      <td>0.000000</td>\n",
              "      <td>0.500</td>\n",
              "      <td>0.76</td>\n",
              "      <td>1.0</td>\n",
              "      <td>1.0</td>\n",
              "      <td>0.714286</td>\n",
              "    </tr>\n",
              "    <tr>\n",
              "      <th>75734</th>\n",
              "      <td>0.735294</td>\n",
              "      <td>0.500</td>\n",
              "      <td>0.500000</td>\n",
              "      <td>0.5625</td>\n",
              "      <td>1.0</td>\n",
              "      <td>0.000000</td>\n",
              "      <td>0.083333</td>\n",
              "      <td>0.076087</td>\n",
              "      <td>0.104441</td>\n",
              "      <td>0.0</td>\n",
              "      <td>0.333333</td>\n",
              "      <td>0.333333</td>\n",
              "      <td>0.000000</td>\n",
              "      <td>0.666667</td>\n",
              "      <td>0.000000</td>\n",
              "      <td>0.625</td>\n",
              "      <td>0.72</td>\n",
              "      <td>1.0</td>\n",
              "      <td>1.0</td>\n",
              "      <td>0.714286</td>\n",
              "    </tr>\n",
              "  </tbody>\n",
              "</table>\n",
              "<p>75735 rows × 20 columns</p>\n",
              "</div>\n",
              "    <div class=\"colab-df-buttons\">\n",
              "\n",
              "  <div class=\"colab-df-container\">\n",
              "    <button class=\"colab-df-convert\" onclick=\"convertToInteractive('df-5eafe279-de2e-48b7-9fe0-ca730b0d6ba5')\"\n",
              "            title=\"Convert this dataframe to an interactive table.\"\n",
              "            style=\"display:none;\">\n",
              "\n",
              "  <svg xmlns=\"http://www.w3.org/2000/svg\" height=\"24px\" viewBox=\"0 -960 960 960\">\n",
              "    <path d=\"M120-120v-720h720v720H120Zm60-500h600v-160H180v160Zm220 220h160v-160H400v160Zm0 220h160v-160H400v160ZM180-400h160v-160H180v160Zm440 0h160v-160H620v160ZM180-180h160v-160H180v160Zm440 0h160v-160H620v160Z\"/>\n",
              "  </svg>\n",
              "    </button>\n",
              "\n",
              "  <style>\n",
              "    .colab-df-container {\n",
              "      display:flex;\n",
              "      gap: 12px;\n",
              "    }\n",
              "\n",
              "    .colab-df-convert {\n",
              "      background-color: #E8F0FE;\n",
              "      border: none;\n",
              "      border-radius: 50%;\n",
              "      cursor: pointer;\n",
              "      display: none;\n",
              "      fill: #1967D2;\n",
              "      height: 32px;\n",
              "      padding: 0 0 0 0;\n",
              "      width: 32px;\n",
              "    }\n",
              "\n",
              "    .colab-df-convert:hover {\n",
              "      background-color: #E2EBFA;\n",
              "      box-shadow: 0px 1px 2px rgba(60, 64, 67, 0.3), 0px 1px 3px 1px rgba(60, 64, 67, 0.15);\n",
              "      fill: #174EA6;\n",
              "    }\n",
              "\n",
              "    .colab-df-buttons div {\n",
              "      margin-bottom: 4px;\n",
              "    }\n",
              "\n",
              "    [theme=dark] .colab-df-convert {\n",
              "      background-color: #3B4455;\n",
              "      fill: #D2E3FC;\n",
              "    }\n",
              "\n",
              "    [theme=dark] .colab-df-convert:hover {\n",
              "      background-color: #434B5C;\n",
              "      box-shadow: 0px 1px 3px 1px rgba(0, 0, 0, 0.15);\n",
              "      filter: drop-shadow(0px 1px 2px rgba(0, 0, 0, 0.3));\n",
              "      fill: #FFFFFF;\n",
              "    }\n",
              "  </style>\n",
              "\n",
              "    <script>\n",
              "      const buttonEl =\n",
              "        document.querySelector('#df-5eafe279-de2e-48b7-9fe0-ca730b0d6ba5 button.colab-df-convert');\n",
              "      buttonEl.style.display =\n",
              "        google.colab.kernel.accessAllowed ? 'block' : 'none';\n",
              "\n",
              "      async function convertToInteractive(key) {\n",
              "        const element = document.querySelector('#df-5eafe279-de2e-48b7-9fe0-ca730b0d6ba5');\n",
              "        const dataTable =\n",
              "          await google.colab.kernel.invokeFunction('convertToInteractive',\n",
              "                                                    [key], {});\n",
              "        if (!dataTable) return;\n",
              "\n",
              "        const docLinkHtml = 'Like what you see? Visit the ' +\n",
              "          '<a target=\"_blank\" href=https://colab.research.google.com/notebooks/data_table.ipynb>data table notebook</a>'\n",
              "          + ' to learn more about interactive tables.';\n",
              "        element.innerHTML = '';\n",
              "        dataTable['output_type'] = 'display_data';\n",
              "        await google.colab.output.renderOutput(dataTable, element);\n",
              "        const docLink = document.createElement('div');\n",
              "        docLink.innerHTML = docLinkHtml;\n",
              "        element.appendChild(docLink);\n",
              "      }\n",
              "    </script>\n",
              "  </div>\n",
              "\n",
              "\n",
              "<div id=\"df-61ad7b12-003a-4c60-a64c-dfcdefa7d42f\">\n",
              "  <button class=\"colab-df-quickchart\" onclick=\"quickchart('df-61ad7b12-003a-4c60-a64c-dfcdefa7d42f')\"\n",
              "            title=\"Suggest charts\"\n",
              "            style=\"display:none;\">\n",
              "\n",
              "<svg xmlns=\"http://www.w3.org/2000/svg\" height=\"24px\"viewBox=\"0 0 24 24\"\n",
              "     width=\"24px\">\n",
              "    <g>\n",
              "        <path d=\"M19 3H5c-1.1 0-2 .9-2 2v14c0 1.1.9 2 2 2h14c1.1 0 2-.9 2-2V5c0-1.1-.9-2-2-2zM9 17H7v-7h2v7zm4 0h-2V7h2v10zm4 0h-2v-4h2v4z\"/>\n",
              "    </g>\n",
              "</svg>\n",
              "  </button>\n",
              "\n",
              "<style>\n",
              "  .colab-df-quickchart {\n",
              "      --bg-color: #E8F0FE;\n",
              "      --fill-color: #1967D2;\n",
              "      --hover-bg-color: #E2EBFA;\n",
              "      --hover-fill-color: #174EA6;\n",
              "      --disabled-fill-color: #AAA;\n",
              "      --disabled-bg-color: #DDD;\n",
              "  }\n",
              "\n",
              "  [theme=dark] .colab-df-quickchart {\n",
              "      --bg-color: #3B4455;\n",
              "      --fill-color: #D2E3FC;\n",
              "      --hover-bg-color: #434B5C;\n",
              "      --hover-fill-color: #FFFFFF;\n",
              "      --disabled-bg-color: #3B4455;\n",
              "      --disabled-fill-color: #666;\n",
              "  }\n",
              "\n",
              "  .colab-df-quickchart {\n",
              "    background-color: var(--bg-color);\n",
              "    border: none;\n",
              "    border-radius: 50%;\n",
              "    cursor: pointer;\n",
              "    display: none;\n",
              "    fill: var(--fill-color);\n",
              "    height: 32px;\n",
              "    padding: 0;\n",
              "    width: 32px;\n",
              "  }\n",
              "\n",
              "  .colab-df-quickchart:hover {\n",
              "    background-color: var(--hover-bg-color);\n",
              "    box-shadow: 0 1px 2px rgba(60, 64, 67, 0.3), 0 1px 3px 1px rgba(60, 64, 67, 0.15);\n",
              "    fill: var(--button-hover-fill-color);\n",
              "  }\n",
              "\n",
              "  .colab-df-quickchart-complete:disabled,\n",
              "  .colab-df-quickchart-complete:disabled:hover {\n",
              "    background-color: var(--disabled-bg-color);\n",
              "    fill: var(--disabled-fill-color);\n",
              "    box-shadow: none;\n",
              "  }\n",
              "\n",
              "  .colab-df-spinner {\n",
              "    border: 2px solid var(--fill-color);\n",
              "    border-color: transparent;\n",
              "    border-bottom-color: var(--fill-color);\n",
              "    animation:\n",
              "      spin 1s steps(1) infinite;\n",
              "  }\n",
              "\n",
              "  @keyframes spin {\n",
              "    0% {\n",
              "      border-color: transparent;\n",
              "      border-bottom-color: var(--fill-color);\n",
              "      border-left-color: var(--fill-color);\n",
              "    }\n",
              "    20% {\n",
              "      border-color: transparent;\n",
              "      border-left-color: var(--fill-color);\n",
              "      border-top-color: var(--fill-color);\n",
              "    }\n",
              "    30% {\n",
              "      border-color: transparent;\n",
              "      border-left-color: var(--fill-color);\n",
              "      border-top-color: var(--fill-color);\n",
              "      border-right-color: var(--fill-color);\n",
              "    }\n",
              "    40% {\n",
              "      border-color: transparent;\n",
              "      border-right-color: var(--fill-color);\n",
              "      border-top-color: var(--fill-color);\n",
              "    }\n",
              "    60% {\n",
              "      border-color: transparent;\n",
              "      border-right-color: var(--fill-color);\n",
              "    }\n",
              "    80% {\n",
              "      border-color: transparent;\n",
              "      border-right-color: var(--fill-color);\n",
              "      border-bottom-color: var(--fill-color);\n",
              "    }\n",
              "    90% {\n",
              "      border-color: transparent;\n",
              "      border-bottom-color: var(--fill-color);\n",
              "    }\n",
              "  }\n",
              "</style>\n",
              "\n",
              "  <script>\n",
              "    async function quickchart(key) {\n",
              "      const quickchartButtonEl =\n",
              "        document.querySelector('#' + key + ' button');\n",
              "      quickchartButtonEl.disabled = true;  // To prevent multiple clicks.\n",
              "      quickchartButtonEl.classList.add('colab-df-spinner');\n",
              "      try {\n",
              "        const charts = await google.colab.kernel.invokeFunction(\n",
              "            'suggestCharts', [key], {});\n",
              "      } catch (error) {\n",
              "        console.error('Error during call to suggestCharts:', error);\n",
              "      }\n",
              "      quickchartButtonEl.classList.remove('colab-df-spinner');\n",
              "      quickchartButtonEl.classList.add('colab-df-quickchart-complete');\n",
              "    }\n",
              "    (() => {\n",
              "      let quickchartButtonEl =\n",
              "        document.querySelector('#df-61ad7b12-003a-4c60-a64c-dfcdefa7d42f button');\n",
              "      quickchartButtonEl.style.display =\n",
              "        google.colab.kernel.accessAllowed ? 'block' : 'none';\n",
              "    })();\n",
              "  </script>\n",
              "</div>\n",
              "    </div>\n",
              "  </div>\n"
            ]
          },
          "metadata": {},
          "execution_count": 12
        }
      ]
    },
    {
      "cell_type": "code",
      "metadata": {
        "id": "R9iRcmu9DJ-E",
        "colab": {
          "base_uri": "https://localhost:8080/",
          "height": 424
        },
        "outputId": "06eee158-3128-492c-8bf5-40f1292ae17c"
      },
      "source": [
        "targets = pandas.DataFrame(Ynn)\n",
        "targets"
      ],
      "execution_count": 13,
      "outputs": [
        {
          "output_type": "execute_result",
          "data": {
            "text/plain": [
              "         0\n",
              "0      0.0\n",
              "1      0.0\n",
              "2      0.0\n",
              "3      0.0\n",
              "4      0.0\n",
              "...    ...\n",
              "75730  0.0\n",
              "75731  2.0\n",
              "75732  2.0\n",
              "75733  2.0\n",
              "75734  2.0\n",
              "\n",
              "[75735 rows x 1 columns]"
            ],
            "text/html": [
              "\n",
              "  <div id=\"df-92893f78-671e-4fcd-a7e5-4c7b6c182b31\" class=\"colab-df-container\">\n",
              "    <div>\n",
              "<style scoped>\n",
              "    .dataframe tbody tr th:only-of-type {\n",
              "        vertical-align: middle;\n",
              "    }\n",
              "\n",
              "    .dataframe tbody tr th {\n",
              "        vertical-align: top;\n",
              "    }\n",
              "\n",
              "    .dataframe thead th {\n",
              "        text-align: right;\n",
              "    }\n",
              "</style>\n",
              "<table border=\"1\" class=\"dataframe\">\n",
              "  <thead>\n",
              "    <tr style=\"text-align: right;\">\n",
              "      <th></th>\n",
              "      <th>0</th>\n",
              "    </tr>\n",
              "  </thead>\n",
              "  <tbody>\n",
              "    <tr>\n",
              "      <th>0</th>\n",
              "      <td>0.0</td>\n",
              "    </tr>\n",
              "    <tr>\n",
              "      <th>1</th>\n",
              "      <td>0.0</td>\n",
              "    </tr>\n",
              "    <tr>\n",
              "      <th>2</th>\n",
              "      <td>0.0</td>\n",
              "    </tr>\n",
              "    <tr>\n",
              "      <th>3</th>\n",
              "      <td>0.0</td>\n",
              "    </tr>\n",
              "    <tr>\n",
              "      <th>4</th>\n",
              "      <td>0.0</td>\n",
              "    </tr>\n",
              "    <tr>\n",
              "      <th>...</th>\n",
              "      <td>...</td>\n",
              "    </tr>\n",
              "    <tr>\n",
              "      <th>75730</th>\n",
              "      <td>0.0</td>\n",
              "    </tr>\n",
              "    <tr>\n",
              "      <th>75731</th>\n",
              "      <td>2.0</td>\n",
              "    </tr>\n",
              "    <tr>\n",
              "      <th>75732</th>\n",
              "      <td>2.0</td>\n",
              "    </tr>\n",
              "    <tr>\n",
              "      <th>75733</th>\n",
              "      <td>2.0</td>\n",
              "    </tr>\n",
              "    <tr>\n",
              "      <th>75734</th>\n",
              "      <td>2.0</td>\n",
              "    </tr>\n",
              "  </tbody>\n",
              "</table>\n",
              "<p>75735 rows × 1 columns</p>\n",
              "</div>\n",
              "    <div class=\"colab-df-buttons\">\n",
              "\n",
              "  <div class=\"colab-df-container\">\n",
              "    <button class=\"colab-df-convert\" onclick=\"convertToInteractive('df-92893f78-671e-4fcd-a7e5-4c7b6c182b31')\"\n",
              "            title=\"Convert this dataframe to an interactive table.\"\n",
              "            style=\"display:none;\">\n",
              "\n",
              "  <svg xmlns=\"http://www.w3.org/2000/svg\" height=\"24px\" viewBox=\"0 -960 960 960\">\n",
              "    <path d=\"M120-120v-720h720v720H120Zm60-500h600v-160H180v160Zm220 220h160v-160H400v160Zm0 220h160v-160H400v160ZM180-400h160v-160H180v160Zm440 0h160v-160H620v160ZM180-180h160v-160H180v160Zm440 0h160v-160H620v160Z\"/>\n",
              "  </svg>\n",
              "    </button>\n",
              "\n",
              "  <style>\n",
              "    .colab-df-container {\n",
              "      display:flex;\n",
              "      gap: 12px;\n",
              "    }\n",
              "\n",
              "    .colab-df-convert {\n",
              "      background-color: #E8F0FE;\n",
              "      border: none;\n",
              "      border-radius: 50%;\n",
              "      cursor: pointer;\n",
              "      display: none;\n",
              "      fill: #1967D2;\n",
              "      height: 32px;\n",
              "      padding: 0 0 0 0;\n",
              "      width: 32px;\n",
              "    }\n",
              "\n",
              "    .colab-df-convert:hover {\n",
              "      background-color: #E2EBFA;\n",
              "      box-shadow: 0px 1px 2px rgba(60, 64, 67, 0.3), 0px 1px 3px 1px rgba(60, 64, 67, 0.15);\n",
              "      fill: #174EA6;\n",
              "    }\n",
              "\n",
              "    .colab-df-buttons div {\n",
              "      margin-bottom: 4px;\n",
              "    }\n",
              "\n",
              "    [theme=dark] .colab-df-convert {\n",
              "      background-color: #3B4455;\n",
              "      fill: #D2E3FC;\n",
              "    }\n",
              "\n",
              "    [theme=dark] .colab-df-convert:hover {\n",
              "      background-color: #434B5C;\n",
              "      box-shadow: 0px 1px 3px 1px rgba(0, 0, 0, 0.15);\n",
              "      filter: drop-shadow(0px 1px 2px rgba(0, 0, 0, 0.3));\n",
              "      fill: #FFFFFF;\n",
              "    }\n",
              "  </style>\n",
              "\n",
              "    <script>\n",
              "      const buttonEl =\n",
              "        document.querySelector('#df-92893f78-671e-4fcd-a7e5-4c7b6c182b31 button.colab-df-convert');\n",
              "      buttonEl.style.display =\n",
              "        google.colab.kernel.accessAllowed ? 'block' : 'none';\n",
              "\n",
              "      async function convertToInteractive(key) {\n",
              "        const element = document.querySelector('#df-92893f78-671e-4fcd-a7e5-4c7b6c182b31');\n",
              "        const dataTable =\n",
              "          await google.colab.kernel.invokeFunction('convertToInteractive',\n",
              "                                                    [key], {});\n",
              "        if (!dataTable) return;\n",
              "\n",
              "        const docLinkHtml = 'Like what you see? Visit the ' +\n",
              "          '<a target=\"_blank\" href=https://colab.research.google.com/notebooks/data_table.ipynb>data table notebook</a>'\n",
              "          + ' to learn more about interactive tables.';\n",
              "        element.innerHTML = '';\n",
              "        dataTable['output_type'] = 'display_data';\n",
              "        await google.colab.output.renderOutput(dataTable, element);\n",
              "        const docLink = document.createElement('div');\n",
              "        docLink.innerHTML = docLinkHtml;\n",
              "        element.appendChild(docLink);\n",
              "      }\n",
              "    </script>\n",
              "  </div>\n",
              "\n",
              "\n",
              "<div id=\"df-9ff44a9c-07a5-4d12-af2f-17c262179f5e\">\n",
              "  <button class=\"colab-df-quickchart\" onclick=\"quickchart('df-9ff44a9c-07a5-4d12-af2f-17c262179f5e')\"\n",
              "            title=\"Suggest charts\"\n",
              "            style=\"display:none;\">\n",
              "\n",
              "<svg xmlns=\"http://www.w3.org/2000/svg\" height=\"24px\"viewBox=\"0 0 24 24\"\n",
              "     width=\"24px\">\n",
              "    <g>\n",
              "        <path d=\"M19 3H5c-1.1 0-2 .9-2 2v14c0 1.1.9 2 2 2h14c1.1 0 2-.9 2-2V5c0-1.1-.9-2-2-2zM9 17H7v-7h2v7zm4 0h-2V7h2v10zm4 0h-2v-4h2v4z\"/>\n",
              "    </g>\n",
              "</svg>\n",
              "  </button>\n",
              "\n",
              "<style>\n",
              "  .colab-df-quickchart {\n",
              "      --bg-color: #E8F0FE;\n",
              "      --fill-color: #1967D2;\n",
              "      --hover-bg-color: #E2EBFA;\n",
              "      --hover-fill-color: #174EA6;\n",
              "      --disabled-fill-color: #AAA;\n",
              "      --disabled-bg-color: #DDD;\n",
              "  }\n",
              "\n",
              "  [theme=dark] .colab-df-quickchart {\n",
              "      --bg-color: #3B4455;\n",
              "      --fill-color: #D2E3FC;\n",
              "      --hover-bg-color: #434B5C;\n",
              "      --hover-fill-color: #FFFFFF;\n",
              "      --disabled-bg-color: #3B4455;\n",
              "      --disabled-fill-color: #666;\n",
              "  }\n",
              "\n",
              "  .colab-df-quickchart {\n",
              "    background-color: var(--bg-color);\n",
              "    border: none;\n",
              "    border-radius: 50%;\n",
              "    cursor: pointer;\n",
              "    display: none;\n",
              "    fill: var(--fill-color);\n",
              "    height: 32px;\n",
              "    padding: 0;\n",
              "    width: 32px;\n",
              "  }\n",
              "\n",
              "  .colab-df-quickchart:hover {\n",
              "    background-color: var(--hover-bg-color);\n",
              "    box-shadow: 0 1px 2px rgba(60, 64, 67, 0.3), 0 1px 3px 1px rgba(60, 64, 67, 0.15);\n",
              "    fill: var(--button-hover-fill-color);\n",
              "  }\n",
              "\n",
              "  .colab-df-quickchart-complete:disabled,\n",
              "  .colab-df-quickchart-complete:disabled:hover {\n",
              "    background-color: var(--disabled-bg-color);\n",
              "    fill: var(--disabled-fill-color);\n",
              "    box-shadow: none;\n",
              "  }\n",
              "\n",
              "  .colab-df-spinner {\n",
              "    border: 2px solid var(--fill-color);\n",
              "    border-color: transparent;\n",
              "    border-bottom-color: var(--fill-color);\n",
              "    animation:\n",
              "      spin 1s steps(1) infinite;\n",
              "  }\n",
              "\n",
              "  @keyframes spin {\n",
              "    0% {\n",
              "      border-color: transparent;\n",
              "      border-bottom-color: var(--fill-color);\n",
              "      border-left-color: var(--fill-color);\n",
              "    }\n",
              "    20% {\n",
              "      border-color: transparent;\n",
              "      border-left-color: var(--fill-color);\n",
              "      border-top-color: var(--fill-color);\n",
              "    }\n",
              "    30% {\n",
              "      border-color: transparent;\n",
              "      border-left-color: var(--fill-color);\n",
              "      border-top-color: var(--fill-color);\n",
              "      border-right-color: var(--fill-color);\n",
              "    }\n",
              "    40% {\n",
              "      border-color: transparent;\n",
              "      border-right-color: var(--fill-color);\n",
              "      border-top-color: var(--fill-color);\n",
              "    }\n",
              "    60% {\n",
              "      border-color: transparent;\n",
              "      border-right-color: var(--fill-color);\n",
              "    }\n",
              "    80% {\n",
              "      border-color: transparent;\n",
              "      border-right-color: var(--fill-color);\n",
              "      border-bottom-color: var(--fill-color);\n",
              "    }\n",
              "    90% {\n",
              "      border-color: transparent;\n",
              "      border-bottom-color: var(--fill-color);\n",
              "    }\n",
              "  }\n",
              "</style>\n",
              "\n",
              "  <script>\n",
              "    async function quickchart(key) {\n",
              "      const quickchartButtonEl =\n",
              "        document.querySelector('#' + key + ' button');\n",
              "      quickchartButtonEl.disabled = true;  // To prevent multiple clicks.\n",
              "      quickchartButtonEl.classList.add('colab-df-spinner');\n",
              "      try {\n",
              "        const charts = await google.colab.kernel.invokeFunction(\n",
              "            'suggestCharts', [key], {});\n",
              "      } catch (error) {\n",
              "        console.error('Error during call to suggestCharts:', error);\n",
              "      }\n",
              "      quickchartButtonEl.classList.remove('colab-df-spinner');\n",
              "      quickchartButtonEl.classList.add('colab-df-quickchart-complete');\n",
              "    }\n",
              "    (() => {\n",
              "      let quickchartButtonEl =\n",
              "        document.querySelector('#df-9ff44a9c-07a5-4d12-af2f-17c262179f5e button');\n",
              "      quickchartButtonEl.style.display =\n",
              "        google.colab.kernel.accessAllowed ? 'block' : 'none';\n",
              "    })();\n",
              "  </script>\n",
              "</div>\n",
              "    </div>\n",
              "  </div>\n"
            ]
          },
          "metadata": {},
          "execution_count": 13
        }
      ]
    },
    {
      "cell_type": "markdown",
      "metadata": {
        "id": "8kss_1d-DZ31"
      },
      "source": [
        "Para visualizar los targets, una mejor gráfica sería un histograma:"
      ]
    },
    {
      "cell_type": "code",
      "metadata": {
        "id": "5HlGNUN1DW5x",
        "colab": {
          "base_uri": "https://localhost:8080/",
          "height": 470
        },
        "outputId": "61645928-0ccd-4213-a823-41f3689aaa4c"
      },
      "source": [
        "targets.hist()"
      ],
      "execution_count": 15,
      "outputs": [
        {
          "output_type": "execute_result",
          "data": {
            "text/plain": [
              "array([[<Axes: title={'center': '0'}>]], dtype=object)"
            ]
          },
          "metadata": {},
          "execution_count": 15
        },
        {
          "output_type": "display_data",
          "data": {
            "text/plain": [
              "<Figure size 640x480 with 1 Axes>"
            ],
            "image/png": "[encoded data removed]"
          },
          "metadata": {}
        }
      ]
    },
    {
      "cell_type": "markdown",
      "metadata": {
        "id": "eAzBFocxpWW7"
      },
      "source": [
        "### 2.2) Preparar los conjuntos de datos para entrenamiento y prueba"
      ]
    },
    {
      "cell_type": "code",
      "metadata": {
        "colab": {
          "base_uri": "https://localhost:8080/"
        },
        "outputId": "4e6a634d-7356-4330-a776-16aa735b5e5d",
        "id": "tqUnshFhVqOm"
      },
      "source": [
        "Xnn.shape, Ynn.shape"
      ],
      "execution_count": 16,
      "outputs": [
        {
          "output_type": "execute_result",
          "data": {
            "text/plain": [
              "((75735, 20), (75735,))"
            ]
          },
          "metadata": {},
          "execution_count": 16
        }
      ]
    },
    {
      "cell_type": "markdown",
      "metadata": {
        "id": "K-xsvBztVqOn"
      },
      "source": [
        "No se realizó submuestreo para este caso."
      ]
    },
    {
      "cell_type": "code",
      "metadata": {
        "id": "Ut483_FKsFRi"
      },
      "source": [
        "X_submuestreado = Xnn.astype('float32')\n",
        "Y_submuestreado = Ynn.astype('float32')"
      ],
      "execution_count": 18,
      "outputs": []
    },
    {
      "cell_type": "code",
      "metadata": {
        "id": "8RYaNj0js3YV",
        "colab": {
          "base_uri": "https://localhost:8080/"
        },
        "outputId": "ffe9c0b1-d21f-4dbf-ea39-4974c67daf47"
      },
      "source": [
        "X_submuestreado.shape, Y_submuestreado.shape"
      ],
      "execution_count": 19,
      "outputs": [
        {
          "output_type": "execute_result",
          "data": {
            "text/plain": [
              "((75735, 20), (75735,))"
            ]
          },
          "metadata": {},
          "execution_count": 19
        }
      ]
    },
    {
      "cell_type": "code",
      "metadata": {
        "id": "cyvAcLMYpWW7"
      },
      "source": [
        "# Parte los datos en conjuntos de entrenamiento/prueba\n",
        "test_size = 0.20\n",
        "seed = 7   # semilla para la generacion de numeros aleatorios para la particion de los datos(para replicabilidad)\n",
        "\n",
        "X_train, X_test, Y_train, Y_test = train_test_split(X_submuestreado, Y_submuestreado, test_size=test_size, random_state=seed)\n"
      ],
      "execution_count": 27,
      "outputs": []
    },
    {
      "cell_type": "code",
      "metadata": {
        "id": "Q7kZAtsAi1FW",
        "colab": {
          "base_uri": "https://localhost:8080/"
        },
        "outputId": "7701beba-8a80-4276-c97d-8edf7cac676f"
      },
      "source": [
        "X_train.shape, X_test.shape, Y_train.shape, Y_test.shape"
      ],
      "execution_count": 28,
      "outputs": [
        {
          "output_type": "execute_result",
          "data": {
            "text/plain": [
              "((60588, 20), (15147, 20), (60588,), (15147,))"
            ]
          },
          "metadata": {},
          "execution_count": 28
        }
      ]
    },
    {
      "cell_type": "code",
      "metadata": {
        "id": "9N9f7mzhiH-T",
        "colab": {
          "base_uri": "https://localhost:8080/"
        },
        "outputId": "55d49adc-6748-461d-a640-c6564183125b"
      },
      "source": [
        "Y_train.shape, Y_test.shape"
      ],
      "execution_count": 29,
      "outputs": [
        {
          "output_type": "execute_result",
          "data": {
            "text/plain": [
              "((60588,), (15147,))"
            ]
          },
          "metadata": {},
          "execution_count": 29
        }
      ]
    },
    {
      "cell_type": "markdown",
      "metadata": {
        "id": "_kDld-ZWpWW_"
      },
      "source": [
        "### 2.3) Entrenar y evaluar modelos"
      ]
    },
    {
      "cell_type": "code",
      "source": [
        "algos = []\n",
        "algos.append(('LR', LogisticRegression()))\n",
        "algos.append(('SVC', SVC()))\n",
        "algos.append(('GaussianNB', GaussianNB()))\n",
        "algos.append(('KNeighborsClassifier', KNeighborsClassifier()))\n",
        "algos.append(('RandomForest', RandomForestClassifier()))\n",
        "algos.append(('XGBClassifier',XGBClassifier()))"
      ],
      "metadata": {
        "id": "V94R4tzPJIu5"
      },
      "execution_count": 55,
      "outputs": []
    },
    {
      "cell_type": "code",
      "source": [
        "# Evaluamos cada algoritmo en estrategia de 10-fold-CV\n",
        "results = []\n",
        "names = []\n",
        "\n",
        "# genera el particionamiento de 10 folds que seran usados en cada evaluacion\n",
        "seed = 7\n",
        "kfold = KFold(n_splits=10, random_state=seed, shuffle= True)  # especifica el particionador de datos a 10-folds CV\n",
        "\n",
        "#  evalua cada algoritmo\n",
        "for algoname, algo in algos:\n",
        "    cv_results = cross_val_score(algo, X_train, Y_train, cv=kfold, scoring='accuracy') # dado que son clases balanceadas usamos accuracy\n",
        "    results.append(cv_results)\n",
        "    names.append(algoname)\n",
        "    #print(\"{}: {} ({})\".format(algoname, cv_results.mean(), cv_results.std()))"
      ],
      "metadata": {
        "id": "2KN2eZgWJOk6"
      },
      "execution_count": 58,
      "outputs": []
    },
    {
      "cell_type": "code",
      "source": [
        "# Muestra graficamente los resultados de neg_mean_absolute_error  en crossvalidacion de los Algoritmos evaluados\n",
        "fig = plt.figure(figsize=[10,7])\n",
        "fig.suptitle('Accuracy  obtenidas en 10-fold-CV')\n",
        "ax = fig.add_subplot(111)\n",
        "plt.boxplot(results)\n",
        "ax.set_xticklabels(names)\n",
        "plt.show()"
      ],
      "metadata": {
        "id": "RYie9cEbJVlp",
        "colab": {
          "base_uri": "https://localhost:8080/",
          "height": 650
        },
        "outputId": "b41cdb28-3b51-443a-f874-3495ff16c845"
      },
      "execution_count": 59,
      "outputs": [
        {
          "output_type": "display_data",
          "data": {
            "text/plain": [
              "<Figure size 1000x700 with 1 Axes>"
            ],
            "image/png": "[encoded data removed]"
          },
          "metadata": {}
        }
      ]
    },
    {
      "cell_type": "markdown",
      "metadata": {
        "id": "GZjeNY4_pWXJ"
      },
      "source": [
        "## 2.4) Seleccionar  modelo y reentrenar"
      ]
    },
    {
      "cell_type": "markdown",
      "metadata": {
        "id": "BJ1bJo0K7w0T"
      },
      "source": [
        "He aplicado validación cruzada para determinar el mejor algoritmo y entrenar el modelo, pero ustedes pueden directamente proponer el algoritmo que deseen."
      ]
    },
    {
      "cell_type": "markdown",
      "metadata": {
        "id": "1aLPMq311i07"
      },
      "source": [
        "Para los resultados que obtuve, el modelo que obtiene los mejores datos, considerando una menor dispersión de los mismos, es `RF1`."
      ]
    },
    {
      "cell_type": "code",
      "metadata": {
        "id": "oT4OaD34pWXO",
        "colab": {
          "base_uri": "https://localhost:8080/",
          "height": 75
        },
        "outputId": "1953c614-8461-414a-c97c-468a1ff73a2a"
      },
      "source": [
        "# Reentrena modelo con todos los datos de entrenamiento y lo prueba en el conjunto de validación\n",
        "model = RandomForestClassifier(criterion = 'entropy', max_depth=25, n_estimators=70)\n",
        "model.fit(X_train, Y_train)"
      ],
      "execution_count": 53,
      "outputs": [
        {
          "output_type": "execute_result",
          "data": {
            "text/plain": [
              "RandomForestClassifier(criterion='entropy', max_depth=25, n_estimators=70)"
            ],
            "text/html": [
              "<style>#sk-container-id-5 {color: black;}#sk-container-id-5 pre{padding: 0;}#sk-container-id-5 div.sk-toggleable {background-color: white;}#sk-container-id-5 label.sk-toggleable__label {cursor: pointer;display: block;width: 100%;margin-bottom: 0;padding: 0.3em;box-sizing: border-box;text-align: center;}#sk-container-id-5 label.sk-toggleable__label-arrow:before {content: \"▸\";float: left;margin-right: 0.25em;color: #696969;}#sk-container-id-5 label.sk-toggleable__label-arrow:hover:before {color: black;}#sk-container-id-5 div.sk-estimator:hover label.sk-toggleable__label-arrow:before {color: black;}#sk-container-id-5 div.sk-toggleable__content {max-height: 0;max-width: 0;overflow: hidden;text-align: left;background-color: #f0f8ff;}#sk-container-id-5 div.sk-toggleable__content pre {margin: 0.2em;color: black;border-radius: 0.25em;background-color: #f0f8ff;}#sk-container-id-5 input.sk-toggleable__control:checked~div.sk-toggleable__content {max-height: 200px;max-width: 100%;overflow: auto;}#sk-container-id-5 input.sk-toggleable__control:checked~label.sk-toggleable__label-arrow:before {content: \"▾\";}#sk-container-id-5 div.sk-estimator input.sk-toggleable__control:checked~label.sk-toggleable__label {background-color: #d4ebff;}#sk-container-id-5 div.sk-label input.sk-toggleable__control:checked~label.sk-toggleable__label {background-color: #d4ebff;}#sk-container-id-5 input.sk-hidden--visually {border: 0;clip: rect(1px 1px 1px 1px);clip: rect(1px, 1px, 1px, 1px);height: 1px;margin: -1px;overflow: hidden;padding: 0;position: absolute;width: 1px;}#sk-container-id-5 div.sk-estimator {font-family: monospace;background-color: #f0f8ff;border: 1px dotted black;border-radius: 0.25em;box-sizing: border-box;margin-bottom: 0.5em;}#sk-container-id-5 div.sk-estimator:hover {background-color: #d4ebff;}#sk-container-id-5 div.sk-parallel-item::after {content: \"\";width: 100%;border-bottom: 1px solid gray;flex-grow: 1;}#sk-container-id-5 div.sk-label:hover label.sk-toggleable__label {background-color: #d4ebff;}#sk-container-id-5 div.sk-serial::before {content: \"\";position: absolute;border-left: 1px solid gray;box-sizing: border-box;top: 0;bottom: 0;left: 50%;z-index: 0;}#sk-container-id-5 div.sk-serial {display: flex;flex-direction: column;align-items: center;background-color: white;padding-right: 0.2em;padding-left: 0.2em;position: relative;}#sk-container-id-5 div.sk-item {position: relative;z-index: 1;}#sk-container-id-5 div.sk-parallel {display: flex;align-items: stretch;justify-content: center;background-color: white;position: relative;}#sk-container-id-5 div.sk-item::before, #sk-container-id-5 div.sk-parallel-item::before {content: \"\";position: absolute;border-left: 1px solid gray;box-sizing: border-box;top: 0;bottom: 0;left: 50%;z-index: -1;}#sk-container-id-5 div.sk-parallel-item {display: flex;flex-direction: column;z-index: 1;position: relative;background-color: white;}#sk-container-id-5 div.sk-parallel-item:first-child::after {align-self: flex-end;width: 50%;}#sk-container-id-5 div.sk-parallel-item:last-child::after {align-self: flex-start;width: 50%;}#sk-container-id-5 div.sk-parallel-item:only-child::after {width: 0;}#sk-container-id-5 div.sk-dashed-wrapped {border: 1px dashed gray;margin: 0 0.4em 0.5em 0.4em;box-sizing: border-box;padding-bottom: 0.4em;background-color: white;}#sk-container-id-5 div.sk-label label {font-family: monospace;font-weight: bold;display: inline-block;line-height: 1.2em;}#sk-container-id-5 div.sk-label-container {text-align: center;}#sk-container-id-5 div.sk-container {/* jupyter's `normalize.less` sets `[hidden] { display: none; }` but bootstrap.min.css set `[hidden] { display: none !important; }` so we also need the `!important` here to be able to override the default hidden behavior on the sphinx rendered scikit-learn.org. See: https://github.com/scikit-learn/scikit-learn/issues/21755 */display: inline-block !important;position: relative;}#sk-container-id-5 div.sk-text-repr-fallback {display: none;}</style><div id=\"sk-container-id-5\" class=\"sk-top-container\"><div class=\"sk-text-repr-fallback\"><pre>RandomForestClassifier(criterion=&#x27;entropy&#x27;, max_depth=25, n_estimators=70)</pre><b>In a Jupyter environment, please rerun this cell to show the HTML representation or trust the notebook. <br />On GitHub, the HTML representation is unable to render, please try loading this page with nbviewer.org.</b></div><div class=\"sk-container\" hidden><div class=\"sk-item\"><div class=\"sk-estimator sk-toggleable\"><input class=\"sk-toggleable__control sk-hidden--visually\" id=\"sk-estimator-id-5\" type=\"checkbox\" checked><label for=\"sk-estimator-id-5\" class=\"sk-toggleable__label sk-toggleable__label-arrow\">RandomForestClassifier</label><div class=\"sk-toggleable__content\"><pre>RandomForestClassifier(criterion=&#x27;entropy&#x27;, max_depth=25, n_estimators=70)</pre></div></div></div></div></div>"
            ]
          },
          "metadata": {},
          "execution_count": 53
        }
      ]
    },
    {
      "cell_type": "markdown",
      "metadata": {
        "id": "mVGDKDnUpWXT"
      },
      "source": [
        "### 2.5) Probar modelo en datos de prueba"
      ]
    },
    {
      "cell_type": "code",
      "metadata": {
        "id": "wcZWdmmcpWXT",
        "colab": {
          "base_uri": "https://localhost:8080/"
        },
        "outputId": "bb3b4a2c-2f5d-480f-8304-012cdab0d547"
      },
      "source": [
        "Y_test_pred = model.predict(X_test)\n",
        "print(\"Accuracy score:\", accuracy_score(Y_test, Y_test_pred))\n",
        "print(confusion_matrix(Y_test, Y_test_pred))\n",
        "print(classification_report(Y_test, Y_test_pred))"
      ],
      "execution_count": 54,
      "outputs": [
        {
          "output_type": "stream",
          "name": "stdout",
          "text": [
            "Accuracy score: 0.9790717633854888\n",
            "[[4461   16   37   29    6]\n",
            " [  42 2864    1   12    3]\n",
            " [  42    3 2621    0    8]\n",
            " [  66   15    7 2896    6]\n",
            " [  18    0    3    3 1988]]\n",
            "              precision    recall  f1-score   support\n",
            "\n",
            "         0.0       0.96      0.98      0.97      4549\n",
            "         1.0       0.99      0.98      0.98      2922\n",
            "         2.0       0.98      0.98      0.98      2674\n",
            "         3.0       0.99      0.97      0.98      2990\n",
            "         4.0       0.99      0.99      0.99      2012\n",
            "\n",
            "    accuracy                           0.98     15147\n",
            "   macro avg       0.98      0.98      0.98     15147\n",
            "weighted avg       0.98      0.98      0.98     15147\n",
            "\n"
          ]
        }
      ]
    },
    {
      "cell_type": "code",
      "metadata": {
        "id": "osFRuegLpWXV",
        "colab": {
          "base_uri": "https://localhost:8080/"
        },
        "outputId": "a6542533-12f7-41de-97af-d053be0bbd94"
      },
      "source": [
        "print (Y_test)\n",
        "print (Y_test_pred)"
      ],
      "execution_count": 33,
      "outputs": [
        {
          "output_type": "stream",
          "name": "stdout",
          "text": [
            "[2. 1. 4. ... 0. 0. 3.]\n",
            "[2. 1. 4. ... 0. 0. 3.]\n"
          ]
        }
      ]
    },
    {
      "cell_type": "markdown",
      "metadata": {
        "id": "3ni0KRGevZKx"
      },
      "source": [
        "### 2.6) Simulando funcionamiento en entorno de juego (solo una salida)"
      ]
    },
    {
      "cell_type": "code",
      "source": [
        "ii_prueba = 321"
      ],
      "metadata": {
        "id": "tIIZlip2DbqZ"
      },
      "execution_count": 34,
      "outputs": []
    },
    {
      "cell_type": "code",
      "source": [
        "dataset.shape"
      ],
      "metadata": {
        "colab": {
          "base_uri": "https://localhost:8080/"
        },
        "id": "1N1p6dp5Dr04",
        "outputId": "10cad51f-a5d5-446d-a65d-2b17d40cf459"
      },
      "execution_count": 35,
      "outputs": [
        {
          "output_type": "execute_result",
          "data": {
            "text/plain": [
              "(75735, 21)"
            ]
          },
          "metadata": {},
          "execution_count": 35
        }
      ]
    },
    {
      "cell_type": "code",
      "source": [
        "X_train.shape, X_test.shape"
      ],
      "metadata": {
        "colab": {
          "base_uri": "https://localhost:8080/"
        },
        "id": "ujWxLPdYDunf",
        "outputId": "b729d1e6-5b92-4fe0-b149-b44bfca3cf45"
      },
      "execution_count": 36,
      "outputs": [
        {
          "output_type": "execute_result",
          "data": {
            "text/plain": [
              "((60588, 20), (15147, 20))"
            ]
          },
          "metadata": {},
          "execution_count": 36
        }
      ]
    },
    {
      "cell_type": "code",
      "metadata": {
        "id": "rsjkNVQPvr1k",
        "colab": {
          "base_uri": "https://localhost:8080/"
        },
        "outputId": "fd1e7c15-3f71-4b3a-8368-6279ddc6c983"
      },
      "source": [
        "X_test[0].shape"
      ],
      "execution_count": 37,
      "outputs": [
        {
          "output_type": "execute_result",
          "data": {
            "text/plain": [
              "(20,)"
            ]
          },
          "metadata": {},
          "execution_count": 37
        }
      ]
    },
    {
      "cell_type": "code",
      "metadata": {
        "id": "snhYcO5-l8HM",
        "colab": {
          "base_uri": "https://localhost:8080/"
        },
        "outputId": "8656f7e5-e81f-41f4-9b32-992589b4cbf7"
      },
      "source": [
        "print(\"Predicción del modelo:\", model.predict(X_test[ii_prueba].reshape(1,-1)))\n",
        "print(\"Etiqueta deseada:\",Y_test[ii_prueba])\n",
        "# no importa que sea diferente, ya que no queremos un modelo perfecto\n",
        "# lo que queremos es una acción con la misma cantidad de dimensiones en\n",
        "# el target y en la predicción (1 valor, en nuestro ejemplo del entorno de Pacman)"
      ],
      "execution_count": 38,
      "outputs": [
        {
          "output_type": "stream",
          "name": "stdout",
          "text": [
            "Predicción del modelo: [1.]\n",
            "Etiqueta deseada: 1.0\n"
          ]
        }
      ]
    },
    {
      "cell_type": "markdown",
      "source": [
        "Obtenemos las probabilidades de cada movimiento"
      ],
      "metadata": {
        "id": "dFcHA7yfvAJi"
      }
    },
    {
      "cell_type": "code",
      "metadata": {
        "id": "WIBqzl524Z5B"
      },
      "source": [
        "probas = model.predict_proba(X_test[ii_prueba].reshape(1,-1))[0]"
      ],
      "execution_count": 40,
      "outputs": []
    },
    {
      "cell_type": "code",
      "metadata": {
        "id": "pcwllkfV4hLT",
        "colab": {
          "base_uri": "https://localhost:8080/"
        },
        "outputId": "9c0e4f55-0c0e-4f0b-e77b-6bbb96909b69"
      },
      "source": [
        "probas"
      ],
      "execution_count": 41,
      "outputs": [
        {
          "output_type": "execute_result",
          "data": {
            "text/plain": [
              "array([0.        , 0.96453202, 0.        , 0.03546798, 0.        ])"
            ]
          },
          "metadata": {},
          "execution_count": 41
        }
      ]
    },
    {
      "cell_type": "markdown",
      "source": [
        "Validamos que las clases estén ordenadas"
      ],
      "metadata": {
        "id": "kYidkwKSvFNv"
      }
    },
    {
      "cell_type": "code",
      "source": [
        "model.classes_"
      ],
      "metadata": {
        "colab": {
          "base_uri": "https://localhost:8080/"
        },
        "id": "VQQHtoaC1bYo",
        "outputId": "ffa6f395-5d61-4cad-bd10-d9bc761f44e6"
      },
      "execution_count": 42,
      "outputs": [
        {
          "output_type": "execute_result",
          "data": {
            "text/plain": [
              "array([0., 1., 2., 3., 4.], dtype=float32)"
            ]
          },
          "metadata": {},
          "execution_count": 42
        }
      ]
    },
    {
      "cell_type": "markdown",
      "source": [
        "Importancia de características"
      ],
      "metadata": {
        "id": "C97g8klHvHzG"
      }
    },
    {
      "cell_type": "code",
      "source": [
        "model.feature_importances_"
      ],
      "metadata": {
        "colab": {
          "base_uri": "https://localhost:8080/"
        },
        "id": "uMqs97lb7KG5",
        "outputId": "f371571f-611e-4015-c8d6-5d6c9057d928"
      },
      "execution_count": 43,
      "outputs": [
        {
          "output_type": "execute_result",
          "data": {
            "text/plain": [
              "array([0.04115844, 0.03157461, 0.04197228, 0.03179887, 0.0070341 ,\n",
              "       0.04558646, 0.02597011, 0.03995057, 0.0790645 , 0.00856038,\n",
              "       0.14387372, 0.12984569, 0.10413497, 0.08712877, 0.0385662 ,\n",
              "       0.04686653, 0.02315054, 0.02353549, 0.01640345, 0.03382432])"
            ]
          },
          "metadata": {},
          "execution_count": 43
        }
      ]
    },
    {
      "cell_type": "code",
      "source": [
        "sorted_indices = numpy.argsort(model.feature_importances_)[::-1]\n",
        "sorted_arr = model.feature_importances_[sorted_indices]\n",
        "sorted_column_names = [names[i] for i in sorted_indices]"
      ],
      "metadata": {
        "id": "TRPXfnIz9RK5"
      },
      "execution_count": 44,
      "outputs": []
    },
    {
      "cell_type": "code",
      "source": [
        "import seaborn as sns\n",
        "plt.figure(figsize=(15, 5))\n",
        "sns.barplot(x=sorted_arr, y=sorted_column_names)\n",
        "plt.title(f'Importancia de características')\n",
        "plt.xlabel('Importancia')\n",
        "plt.ylabel('Característica')\n",
        "plt.show()"
      ],
      "metadata": {
        "colab": {
          "base_uri": "https://localhost:8080/",
          "height": 471
        },
        "id": "5MAkt4bi7Wwf",
        "outputId": "e984753a-cfb3-4f7d-c0bd-aa851ca5c1c1"
      },
      "execution_count": 45,
      "outputs": [
        {
          "output_type": "display_data",
          "data": {
            "text/plain": [
              "<Figure size 1500x500 with 1 Axes>"
            ],
            "image/png": "[encoded data removed]"
          },
          "metadata": {}
        }
      ]
    },
    {
      "cell_type": "code",
      "source": [
        "# Obtener la profundidad de cada árbol\n",
        "depths = [tree.tree_.max_depth for tree in model.estimators_]\n",
        "\n",
        "# Calcular estadísticas de las profundidades\n",
        "max_depth = max(depths)\n",
        "min_depth = min(depths)\n",
        "avg_depth = sum(depths) / len(depths)\n",
        "\n",
        "print(f\"Profundidad máxima: {max_depth}\")\n",
        "print(f\"Profundidad mínima: {min_depth}\")\n",
        "print(f\"Profundidad promedio: {avg_depth}\")"
      ],
      "metadata": {
        "colab": {
          "base_uri": "https://localhost:8080/"
        },
        "id": "eCVDdmBv-gN7",
        "outputId": "b42855ce-28e5-4811-fd66-3e16e5091225"
      },
      "execution_count": 46,
      "outputs": [
        {
          "output_type": "stream",
          "name": "stdout",
          "text": [
            "Profundidad máxima: 25\n",
            "Profundidad mínima: 25\n",
            "Profundidad promedio: 25.0\n"
          ]
        }
      ]
    },
    {
      "cell_type": "code",
      "source": [
        "accionList = numpy.flip(numpy.argsort(probas))\n",
        "accionList"
      ],
      "metadata": {
        "colab": {
          "base_uri": "https://localhost:8080/"
        },
        "id": "2lw6mH8RZSRX",
        "outputId": "eb52e723-2104-4b5a-bf23-e1ded062e253"
      },
      "execution_count": 47,
      "outputs": [
        {
          "output_type": "execute_result",
          "data": {
            "text/plain": [
              "array([1, 3, 4, 2, 0])"
            ]
          },
          "metadata": {},
          "execution_count": 47
        }
      ]
    },
    {
      "cell_type": "markdown",
      "metadata": {
        "id": "xthhv9UgwSrl"
      },
      "source": [
        "### 2.7) Grabando el modelo en un archivo externo"
      ]
    },
    {
      "cell_type": "code",
      "metadata": {
        "id": "oSis_aTdzeDW",
        "colab": {
          "base_uri": "https://localhost:8080/",
          "height": 75
        },
        "outputId": "74d780a5-ffc6-4866-84fd-bd97e8e72284"
      },
      "source": [
        "model"
      ],
      "execution_count": 49,
      "outputs": [
        {
          "output_type": "execute_result",
          "data": {
            "text/plain": [
              "RandomForestClassifier(criterion='entropy', max_depth=25, n_estimators=70)"
            ],
            "text/html": [
              "<style>#sk-container-id-3 {color: black;}#sk-container-id-3 pre{padding: 0;}#sk-container-id-3 div.sk-toggleable {background-color: white;}#sk-container-id-3 label.sk-toggleable__label {cursor: pointer;display: block;width: 100%;margin-bottom: 0;padding: 0.3em;box-sizing: border-box;text-align: center;}#sk-container-id-3 label.sk-toggleable__label-arrow:before {content: \"▸\";float: left;margin-right: 0.25em;color: #696969;}#sk-container-id-3 label.sk-toggleable__label-arrow:hover:before {color: black;}#sk-container-id-3 div.sk-estimator:hover label.sk-toggleable__label-arrow:before {color: black;}#sk-container-id-3 div.sk-toggleable__content {max-height: 0;max-width: 0;overflow: hidden;text-align: left;background-color: #f0f8ff;}#sk-container-id-3 div.sk-toggleable__content pre {margin: 0.2em;color: black;border-radius: 0.25em;background-color: #f0f8ff;}#sk-container-id-3 input.sk-toggleable__control:checked~div.sk-toggleable__content {max-height: 200px;max-width: 100%;overflow: auto;}#sk-container-id-3 input.sk-toggleable__control:checked~label.sk-toggleable__label-arrow:before {content: \"▾\";}#sk-container-id-3 div.sk-estimator input.sk-toggleable__control:checked~label.sk-toggleable__label {background-color: #d4ebff;}#sk-container-id-3 div.sk-label input.sk-toggleable__control:checked~label.sk-toggleable__label {background-color: #d4ebff;}#sk-container-id-3 input.sk-hidden--visually {border: 0;clip: rect(1px 1px 1px 1px);clip: rect(1px, 1px, 1px, 1px);height: 1px;margin: -1px;overflow: hidden;padding: 0;position: absolute;width: 1px;}#sk-container-id-3 div.sk-estimator {font-family: monospace;background-color: #f0f8ff;border: 1px dotted black;border-radius: 0.25em;box-sizing: border-box;margin-bottom: 0.5em;}#sk-container-id-3 div.sk-estimator:hover {background-color: #d4ebff;}#sk-container-id-3 div.sk-parallel-item::after {content: \"\";width: 100%;border-bottom: 1px solid gray;flex-grow: 1;}#sk-container-id-3 div.sk-label:hover label.sk-toggleable__label {background-color: #d4ebff;}#sk-container-id-3 div.sk-serial::before {content: \"\";position: absolute;border-left: 1px solid gray;box-sizing: border-box;top: 0;bottom: 0;left: 50%;z-index: 0;}#sk-container-id-3 div.sk-serial {display: flex;flex-direction: column;align-items: center;background-color: white;padding-right: 0.2em;padding-left: 0.2em;position: relative;}#sk-container-id-3 div.sk-item {position: relative;z-index: 1;}#sk-container-id-3 div.sk-parallel {display: flex;align-items: stretch;justify-content: center;background-color: white;position: relative;}#sk-container-id-3 div.sk-item::before, #sk-container-id-3 div.sk-parallel-item::before {content: \"\";position: absolute;border-left: 1px solid gray;box-sizing: border-box;top: 0;bottom: 0;left: 50%;z-index: -1;}#sk-container-id-3 div.sk-parallel-item {display: flex;flex-direction: column;z-index: 1;position: relative;background-color: white;}#sk-container-id-3 div.sk-parallel-item:first-child::after {align-self: flex-end;width: 50%;}#sk-container-id-3 div.sk-parallel-item:last-child::after {align-self: flex-start;width: 50%;}#sk-container-id-3 div.sk-parallel-item:only-child::after {width: 0;}#sk-container-id-3 div.sk-dashed-wrapped {border: 1px dashed gray;margin: 0 0.4em 0.5em 0.4em;box-sizing: border-box;padding-bottom: 0.4em;background-color: white;}#sk-container-id-3 div.sk-label label {font-family: monospace;font-weight: bold;display: inline-block;line-height: 1.2em;}#sk-container-id-3 div.sk-label-container {text-align: center;}#sk-container-id-3 div.sk-container {/* jupyter's `normalize.less` sets `[hidden] { display: none; }` but bootstrap.min.css set `[hidden] { display: none !important; }` so we also need the `!important` here to be able to override the default hidden behavior on the sphinx rendered scikit-learn.org. See: https://github.com/scikit-learn/scikit-learn/issues/21755 */display: inline-block !important;position: relative;}#sk-container-id-3 div.sk-text-repr-fallback {display: none;}</style><div id=\"sk-container-id-3\" class=\"sk-top-container\"><div class=\"sk-text-repr-fallback\"><pre>RandomForestClassifier(criterion=&#x27;entropy&#x27;, max_depth=25, n_estimators=70)</pre><b>In a Jupyter environment, please rerun this cell to show the HTML representation or trust the notebook. <br />On GitHub, the HTML representation is unable to render, please try loading this page with nbviewer.org.</b></div><div class=\"sk-container\" hidden><div class=\"sk-item\"><div class=\"sk-estimator sk-toggleable\"><input class=\"sk-toggleable__control sk-hidden--visually\" id=\"sk-estimator-id-3\" type=\"checkbox\" checked><label for=\"sk-estimator-id-3\" class=\"sk-toggleable__label sk-toggleable__label-arrow\">RandomForestClassifier</label><div class=\"sk-toggleable__content\"><pre>RandomForestClassifier(criterion=&#x27;entropy&#x27;, max_depth=25, n_estimators=70)</pre></div></div></div></div></div>"
            ]
          },
          "metadata": {},
          "execution_count": 49
        }
      ]
    },
    {
      "cell_type": "code",
      "metadata": {
        "id": "jti3zNjzvmn9"
      },
      "source": [
        "# open a file, where you ant to store the data\n",
        "archivoModelo = open('modeloEntrenado.p', 'wb')\n",
        "\n",
        "# dump information to that file\n",
        "pickle.dump(model, archivoModelo)\n",
        "\n",
        "archivoModelo.close()"
      ],
      "execution_count": 50,
      "outputs": []
    },
    {
      "cell_type": "code",
      "source": [
        "scaler_X"
      ],
      "metadata": {
        "colab": {
          "base_uri": "https://localhost:8080/",
          "height": 75
        },
        "id": "xdFeO1LKYPv_",
        "outputId": "c1f72361-caba-4741-f06a-7856090eec64"
      },
      "execution_count": 51,
      "outputs": [
        {
          "output_type": "execute_result",
          "data": {
            "text/plain": [
              "MinMaxScaler()"
            ],
            "text/html": [
              "<style>#sk-container-id-4 {color: black;}#sk-container-id-4 pre{padding: 0;}#sk-container-id-4 div.sk-toggleable {background-color: white;}#sk-container-id-4 label.sk-toggleable__label {cursor: pointer;display: block;width: 100%;margin-bottom: 0;padding: 0.3em;box-sizing: border-box;text-align: center;}#sk-container-id-4 label.sk-toggleable__label-arrow:before {content: \"▸\";float: left;margin-right: 0.25em;color: #696969;}#sk-container-id-4 label.sk-toggleable__label-arrow:hover:before {color: black;}#sk-container-id-4 div.sk-estimator:hover label.sk-toggleable__label-arrow:before {color: black;}#sk-container-id-4 div.sk-toggleable__content {max-height: 0;max-width: 0;overflow: hidden;text-align: left;background-color: #f0f8ff;}#sk-container-id-4 div.sk-toggleable__content pre {margin: 0.2em;color: black;border-radius: 0.25em;background-color: #f0f8ff;}#sk-container-id-4 input.sk-toggleable__control:checked~div.sk-toggleable__content {max-height: 200px;max-width: 100%;overflow: auto;}#sk-container-id-4 input.sk-toggleable__control:checked~label.sk-toggleable__label-arrow:before {content: \"▾\";}#sk-container-id-4 div.sk-estimator input.sk-toggleable__control:checked~label.sk-toggleable__label {background-color: #d4ebff;}#sk-container-id-4 div.sk-label input.sk-toggleable__control:checked~label.sk-toggleable__label {background-color: #d4ebff;}#sk-container-id-4 input.sk-hidden--visually {border: 0;clip: rect(1px 1px 1px 1px);clip: rect(1px, 1px, 1px, 1px);height: 1px;margin: -1px;overflow: hidden;padding: 0;position: absolute;width: 1px;}#sk-container-id-4 div.sk-estimator {font-family: monospace;background-color: #f0f8ff;border: 1px dotted black;border-radius: 0.25em;box-sizing: border-box;margin-bottom: 0.5em;}#sk-container-id-4 div.sk-estimator:hover {background-color: #d4ebff;}#sk-container-id-4 div.sk-parallel-item::after {content: \"\";width: 100%;border-bottom: 1px solid gray;flex-grow: 1;}#sk-container-id-4 div.sk-label:hover label.sk-toggleable__label {background-color: #d4ebff;}#sk-container-id-4 div.sk-serial::before {content: \"\";position: absolute;border-left: 1px solid gray;box-sizing: border-box;top: 0;bottom: 0;left: 50%;z-index: 0;}#sk-container-id-4 div.sk-serial {display: flex;flex-direction: column;align-items: center;background-color: white;padding-right: 0.2em;padding-left: 0.2em;position: relative;}#sk-container-id-4 div.sk-item {position: relative;z-index: 1;}#sk-container-id-4 div.sk-parallel {display: flex;align-items: stretch;justify-content: center;background-color: white;position: relative;}#sk-container-id-4 div.sk-item::before, #sk-container-id-4 div.sk-parallel-item::before {content: \"\";position: absolute;border-left: 1px solid gray;box-sizing: border-box;top: 0;bottom: 0;left: 50%;z-index: -1;}#sk-container-id-4 div.sk-parallel-item {display: flex;flex-direction: column;z-index: 1;position: relative;background-color: white;}#sk-container-id-4 div.sk-parallel-item:first-child::after {align-self: flex-end;width: 50%;}#sk-container-id-4 div.sk-parallel-item:last-child::after {align-self: flex-start;width: 50%;}#sk-container-id-4 div.sk-parallel-item:only-child::after {width: 0;}#sk-container-id-4 div.sk-dashed-wrapped {border: 1px dashed gray;margin: 0 0.4em 0.5em 0.4em;box-sizing: border-box;padding-bottom: 0.4em;background-color: white;}#sk-container-id-4 div.sk-label label {font-family: monospace;font-weight: bold;display: inline-block;line-height: 1.2em;}#sk-container-id-4 div.sk-label-container {text-align: center;}#sk-container-id-4 div.sk-container {/* jupyter's `normalize.less` sets `[hidden] { display: none; }` but bootstrap.min.css set `[hidden] { display: none !important; }` so we also need the `!important` here to be able to override the default hidden behavior on the sphinx rendered scikit-learn.org. See: https://github.com/scikit-learn/scikit-learn/issues/21755 */display: inline-block !important;position: relative;}#sk-container-id-4 div.sk-text-repr-fallback {display: none;}</style><div id=\"sk-container-id-4\" class=\"sk-top-container\"><div class=\"sk-text-repr-fallback\"><pre>MinMaxScaler()</pre><b>In a Jupyter environment, please rerun this cell to show the HTML representation or trust the notebook. <br />On GitHub, the HTML representation is unable to render, please try loading this page with nbviewer.org.</b></div><div class=\"sk-container\" hidden><div class=\"sk-item\"><div class=\"sk-estimator sk-toggleable\"><input class=\"sk-toggleable__control sk-hidden--visually\" id=\"sk-estimator-id-4\" type=\"checkbox\" checked><label for=\"sk-estimator-id-4\" class=\"sk-toggleable__label sk-toggleable__label-arrow\">MinMaxScaler</label><div class=\"sk-toggleable__content\"><pre>MinMaxScaler()</pre></div></div></div></div></div>"
            ]
          },
          "metadata": {},
          "execution_count": 51
        }
      ]
    },
    {
      "cell_type": "code",
      "source": [
        "# open a file, where you ant to store the data\n",
        "archivoScaler = open('scaler.p', 'wb')\n",
        "pickle.dump(scaler_X, archivoScaler)\n",
        "archivoScaler.close()"
      ],
      "metadata": {
        "id": "eUCpsIHAYTPQ"
      },
      "execution_count": 52,
      "outputs": []
    }
  ]
}